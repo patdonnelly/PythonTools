{
 "cells": [
  {
   "cell_type": "markdown",
   "metadata": {
    "collapsed": true
   },
   "source": [
    "### PIGS_X ANALYSIS NOTEBOOK\n",
    "- ##### Patrick M. Donnelly\n",
    "- ##### University of Washington \n",
    "- ##### April 2nd, 2019\n",
    "\n",
    "---\n",
    "___"
   ]
  },
  {
   "cell_type": "markdown",
   "metadata": {},
   "source": [
    "#### LIBRARY IMPORT"
   ]
  },
  {
   "cell_type": "code",
   "execution_count": 1,
   "metadata": {
    "collapsed": true
   },
   "outputs": [],
   "source": [
    "# import necessary databases and libraries\n",
    "import pycurl,json,requests,sys,os,math\n",
    "import pandas as pd\n",
    "import numpy as np\n",
    "from scipy import stats\n",
    "# existing redcap API stipulates StringIO, but pycurl now works with BytesIO\n",
    "from io import BytesIO"
   ]
  },
  {
   "cell_type": "markdown",
   "metadata": {},
   "source": [
    "#### PULL DATA FROM REDCAP USING API"
   ]
  },
  {
   "cell_type": "code",
   "execution_count": 2,
   "metadata": {
    "collapsed": true
   },
   "outputs": [],
   "source": [
    "# get api token\n",
    "# if you need an access token, consult the RedCap API page\n",
    "home = os.path.expanduser('~')\n",
    "with open (home+\"/Desktop/redcap_apitoken_repo.txt\", \"r\") as myfile:\n",
    "    token=myfile.read().split()"
   ]
  },
  {
   "cell_type": "code",
   "execution_count": 3,
   "metadata": {
    "collapsed": true
   },
   "outputs": [],
   "source": [
    "# say which report you want\n",
    "# report 33372 is the report in the repository called \"pigs_x data\"\n",
    "pigs_x_report = {\n",
    "    'token': token,\n",
    "    'content': 'report',\n",
    "    'format': 'csv',\n",
    "    'report_id': '33372',\n",
    "    'rawOrLabel': 'raw',\n",
    "    'rawOrLabelHeaders': 'raw',\n",
    "    'exportCheckboxLabel': 'false',\n",
    "    'returnFormat': 'csv'\n",
    "}"
   ]
  },
  {
   "cell_type": "code",
   "execution_count": 4,
   "metadata": {
    "collapsed": true
   },
   "outputs": [],
   "source": [
    "# specify API address\n",
    "redcap_path = 'https://redcap.iths.org/api/'\n",
    "# use requests module to pull data from database using api token\n",
    "# and convert to csv\n",
    "pull_pigs_x = requests.post(redcap_path, data=pigs_x_report)\n",
    "pigs_x_report_filename =os.path.join(home+'/Downloads/pigs_x_data.csv')\n",
    "with open(pigs_x_report_filename, 'w') as report_file:\n",
    "        report_file.write(pull_pigs_x.text)\n",
    "pigs_x_data = pd.read_csv(pigs_x_report_filename)"
   ]
  },
  {
   "cell_type": "markdown",
   "metadata": {},
   "source": [
    "#### IMPORT PLOTTING LIBRARIES"
   ]
  },
  {
   "cell_type": "code",
   "execution_count": 5,
   "metadata": {
    "collapsed": true
   },
   "outputs": [],
   "source": [
    "# import and initialize plotting libraries\n",
    "%matplotlib inline\n",
    "import matplotlib.pyplot as plt\n",
    "plt.style.use('seaborn-whitegrid')\n",
    "import numpy as np\n",
    "from scipy.stats import linregress\n",
    "from matplotlib import cm\n",
    "#from colorspacious import cspace_converter\n",
    "from collections import OrderedDict\n",
    "cmaps = OrderedDict()\n",
    "plt.rcParams['pdf.fonttype'] = 42\n",
    "from numpy.polynomial.polynomial import polyfit"
   ]
  },
  {
   "cell_type": "markdown",
   "metadata": {},
   "source": [
    "### WORD LIST DATA"
   ]
  },
  {
   "cell_type": "markdown",
   "metadata": {},
   "source": [
    "#### LOOKING AT THE DATA"
   ]
  },
  {
   "cell_type": "code",
   "execution_count": 6,
   "metadata": {},
   "outputs": [
    {
     "data": {
      "text/plain": [
       "pigs_group\n",
       "0    6\n",
       "1    4\n",
       "2    8\n",
       "3    7\n",
       "Name: record_id, dtype: int64"
      ]
     },
     "execution_count": 6,
     "metadata": {},
     "output_type": "execute_result"
    }
   ],
   "source": [
    "# look at group sizes\n",
    "pigs_x_data.groupby(['pigs_group'])['record_id'].count()"
   ]
  },
  {
   "cell_type": "markdown",
   "metadata": {},
   "source": [
    "#### REFORMAT THE DATA"
   ]
  },
  {
   "cell_type": "code",
   "execution_count": 7,
   "metadata": {
    "collapsed": true
   },
   "outputs": [],
   "source": [
    "# convert wide format csv to long format data structure for ease in analysis\n",
    "pigs_x_word = pd.melt(pigs_x_data, id_vars = ['record_id', 'pigs_group'], value_name = 'acc', var_name = 'list', \n",
    "                        value_vars = ['pigs_word1_acc', 'pigs_word2_acc', 'pigs_word3_acc', 'pigs_word4_acc'])\n",
    "# convert accuracy column to numeric variable\n",
    "pigs_x_word['acc'] = pd.to_numeric(pigs_x_word['acc'], errors='coerce')"
   ]
  },
  {
   "cell_type": "code",
   "execution_count": 8,
   "metadata": {
    "collapsed": true
   },
   "outputs": [],
   "source": [
    "# convert wide format csv to long format data structure for ease in analysis\n",
    "pigs_x_pseudo = pd.melt(pigs_x_data, id_vars = ['record_id', 'pigs_group'], value_name = 'acc', var_name = 'list', \n",
    "                        value_vars = ['pigs_pseudo1_acc', 'pigs_pseudo2_acc', 'pigs_pseudo3_acc', 'pigs_pseudo4_acc'])\n",
    "# convert accuracy column to numeric variable\n",
    "pigs_x_pseudo['acc'] = pd.to_numeric(pigs_x_pseudo['acc'], errors='coerce')"
   ]
  },
  {
   "cell_type": "code",
   "execution_count": 9,
   "metadata": {
    "collapsed": true
   },
   "outputs": [],
   "source": [
    "# reset indexing and delete previous index columns\n",
    "pigs_x_word = pigs_x_word.sort_values(by = ['record_id', 'list'])\n",
    "pigs_x_pseudo = pigs_x_pseudo.sort_values(by = ['record_id', 'list'])\n",
    "pigs_x_word = pigs_x_word.reset_index()\n",
    "pigs_x_pseudo = pigs_x_pseudo.reset_index()\n",
    "del pigs_x_word['index']\n",
    "del pigs_x_pseudo['index']"
   ]
  },
  {
   "cell_type": "markdown",
   "metadata": {},
   "source": [
    "#### INITIALIZE CONDITION VARIABLE BY RANDOMIZED GROUP"
   ]
  },
  {
   "cell_type": "code",
   "execution_count": 10,
   "metadata": {
    "collapsed": true
   },
   "outputs": [],
   "source": [
    "# initialize placer columns\n",
    "pigs_x_word['condition'] = np.nan\n",
    "pigs_x_pseudo['condition'] = np.nan"
   ]
  },
  {
   "cell_type": "code",
   "execution_count": 11,
   "metadata": {
    "collapsed": true
   },
   "outputs": [],
   "source": [
    "# loop through and datastructure and apply condition based on group and redcap coding structure\n",
    "for ii in range(0, len(pigs_x_word['record_id'])):\n",
    "        if pigs_x_word['pigs_group'][ii] == 0.0 or pigs_x_word['pigs_group'][ii] == 2.0:\n",
    "                if pigs_x_word['list'][ii] == 'pigs_word1_acc' or pigs_x_word['list'][ii] == 'pigs_word3_acc':\n",
    "                    pigs_x_word.loc[ii,'condition'] = 'normal'\n",
    "                elif pigs_x_word['list'][ii] == 'pigs_word2_acc' or pigs_x_word['list'][ii] == 'pigs_word4_acc':\n",
    "                    pigs_x_word.loc[ii, 'condition'] = 'pigs'\n",
    "                else:\n",
    "                    raise Exception('Error computing condition (bad list, group 0 or 2)')\n",
    "        elif pigs_x_word['pigs_group'][ii] == 1.0 or pigs_x_word['pigs_group'][ii] == 3.0:\n",
    "                if pigs_x_word['list'][ii] == 'pigs_word1_acc' or pigs_x_word['list'][ii] == 'pigs_word3_acc':\n",
    "                    pigs_x_word.loc[ii,'condition'] = 'pigs'\n",
    "                elif pigs_x_word['list'][ii] == 'pigs_word2_acc' or pigs_x_word['list'][ii] == 'pigs_word4_acc':\n",
    "                    pigs_x_word.loc[ii, 'condition'] = 'normal'\n",
    "                else:\n",
    "                    raise Exception('Error computing condition (bad list, group 1 or 3)')\n",
    "        elif math.isnan(pigs_x_word['pigs_group'][ii]):\n",
    "            continue\n",
    "        else:\n",
    "            raise Exception('Error computing condition (bad pigs group)')"
   ]
  },
  {
   "cell_type": "code",
   "execution_count": 12,
   "metadata": {
    "collapsed": true
   },
   "outputs": [],
   "source": [
    "# repeat for pseudo structure\n",
    "for ii in range(0, len(pigs_x_pseudo['record_id'])):\n",
    "        if pigs_x_pseudo['pigs_group'][ii] == 0.0 or pigs_x_pseudo['pigs_group'][ii] == 1.0:\n",
    "                if pigs_x_pseudo['list'][ii] == 'pigs_pseudo1_acc' or pigs_x_pseudo['list'][ii] == 'pigs_pseudo3_acc':\n",
    "                    pigs_x_pseudo.loc[ii,'condition'] = 'normal'\n",
    "                elif pigs_x_pseudo['list'][ii] == 'pigs_pseudo2_acc' or pigs_x_pseudo['list'][ii] == 'pigs_pseudo4_acc':\n",
    "                    pigs_x_pseudo.loc[ii, 'condition'] = 'pigs'\n",
    "                else:\n",
    "                    raise Exception('Error computing condition (bad list, group 0 or 2)')\n",
    "        elif pigs_x_pseudo['pigs_group'][ii] == 2.0 or pigs_x_pseudo['pigs_group'][ii] == 3.0:\n",
    "                if pigs_x_pseudo['list'][ii] == 'pigs_pseudo1_acc' or pigs_x_pseudo['list'][ii] == 'pigs_pseudo3_acc':\n",
    "                    pigs_x_pseudo.loc[ii,'condition'] = 'pigs'\n",
    "                elif pigs_x_pseudo['list'][ii] == 'pigs_pseudo2_acc' or pigs_x_pseudo['list'][ii] == 'pigs_pseudo4_acc':\n",
    "                    pigs_x_pseudo.loc[ii, 'condition'] = 'normal'\n",
    "                else:\n",
    "                    raise Exception('Error computing condition (bad list, group 1 or 3)')\n",
    "        elif math.isnan(pigs_x_pseudo['pigs_group'][ii]):\n",
    "            continue\n",
    "        else:\n",
    "            raise Exception('Error computing condition (bad pigs group)')"
   ]
  },
  {
   "cell_type": "markdown",
   "metadata": {},
   "source": [
    "#### PLOTTING"
   ]
  },
  {
   "cell_type": "markdown",
   "metadata": {},
   "source": [
    "##### REAL WORD DECODING"
   ]
  },
  {
   "cell_type": "code",
   "execution_count": 13,
   "metadata": {},
   "outputs": [
    {
     "data": {
      "image/png": "[encoded data removed]",
      "text/plain": [
       "<matplotlib.figure.Figure at 0x2b63eaa6ba8>"
      ]
     },
     "metadata": {},
     "output_type": "display_data"
    }
   ],
   "source": [
    "word_grouped = pigs_x_word.groupby(['condition'])['acc'].mean()\n",
    "word_error = pigs_x_word.groupby(['condition'])['acc'].sem()\n",
    "\n",
    "fig1 = word_grouped.plot(kind='bar', yerr=word_error, style='seaborn-whitegrid',\n",
    "                                      legend=False, title='Real Word Decoding', \n",
    "                                      rot=0,  colormap='Accent')\n",
    "fig1.set_xlabel('Group')\n",
    "fig1.set_ylabel('Mean Accuracy')\n",
    "fig1.set_ylim((0,30))\n",
    "fig1.set_xticklabels(['Normal', 'Pigs']), \n",
    "\n",
    "#save file\n",
    "plt.savefig('pigs_x_word.svg',transparent=True)"
   ]
  },
  {
   "cell_type": "markdown",
   "metadata": {},
   "source": [
    "##### PSEUDO WORD DECODING"
   ]
  },
  {
   "cell_type": "code",
   "execution_count": 14,
   "metadata": {},
   "outputs": [
    {
     "data": {
      "image/png": "[encoded data removed]",
      "text/plain": [
       "<matplotlib.figure.Figure at 0x2b63eadc748>"
      ]
     },
     "metadata": {},
     "output_type": "display_data"
    }
   ],
   "source": [
    "pseudo_grouped = pigs_x_pseudo.groupby(['condition'])['acc'].mean()\n",
    "pseudo_error = pigs_x_pseudo.groupby(['condition'])['acc'].sem()\n",
    "\n",
    "fig2 = pseudo_grouped.plot(kind='bar', yerr=pseudo_error, style='seaborn-whitegrid',\n",
    "                                      legend=False, title='Pseudo Word Decoding', \n",
    "                                      rot=0,  colormap='Accent')\n",
    "fig2.set_xlabel('Group')\n",
    "fig2.set_ylabel('Mean Accuracy')\n",
    "fig2.set_ylim((0,30))\n",
    "fig2.set_xticklabels(['Normal', 'Pigs']), \n",
    "\n",
    "#save file\n",
    "plt.savefig('pigs_x_pseudo.svg',transparent=True)"
   ]
  },
  {
   "cell_type": "markdown",
   "metadata": {},
   "source": [
    "### PASSAGE DATA"
   ]
  },
  {
   "cell_type": "markdown",
   "metadata": {},
   "source": [
    "#### REFORMAT DATA"
   ]
  },
  {
   "cell_type": "code",
   "execution_count": 15,
   "metadata": {
    "collapsed": true
   },
   "outputs": [],
   "source": [
    "# remove subjects with missing data\n",
    "pigs_x_data = pigs_x_data.dropna(axis='rows', how='any', subset=['pigs_p1_r1_acc', 'pigs_p1_r1_time', \n",
    "                                                                 'pigs_p2_r1_acc', 'pigs_p2_r1_time'])\n",
    "# convert accuracy and time data to numeric\n",
    "pigs_x_data['pigs_p1_r1_acc'] = pd.to_numeric(pigs_x_data['pigs_p1_r1_acc'], errors='coerce')\n",
    "pigs_x_data['pigs_p2_r1_acc'] = pd.to_numeric(pigs_x_data['pigs_p2_r1_acc'], errors='coerce')\n",
    "pigs_x_data['pigs_p1_r1_time'] = pd.to_numeric(pigs_x_data['pigs_p1_r1_time'], errors='coerce')\n",
    "pigs_x_data['pigs_p2_r1_time'] = pd.to_numeric(pigs_x_data['pigs_p2_r1_time'], errors='coerce')\n",
    "\n",
    "# reset index and delete previous index column\n",
    "pigs_x_data = pigs_x_data.reset_index()\n",
    "del pigs_x_data['index']"
   ]
  },
  {
   "cell_type": "code",
   "execution_count": 16,
   "metadata": {
    "collapsed": true
   },
   "outputs": [],
   "source": [
    "# create rate variable\n",
    "for ii in range(0, len(pigs_x_data['record_id'])):\n",
    "    pigs_x_data.loc[ii, 'pigs_p1_r1_rate'] = pigs_x_data.loc[ii, 'pigs_p1_r1_acc']/pigs_x_data.loc[ii, 'pigs_p1_r1_time']\n",
    "    pigs_x_data.loc[ii, 'pigs_p2_r1_rate'] = pigs_x_data.loc[ii, 'pigs_p2_r1_acc']/pigs_x_data.loc[ii, 'pigs_p2_r1_time']"
   ]
  },
  {
   "cell_type": "code",
   "execution_count": 17,
   "metadata": {
    "collapsed": true
   },
   "outputs": [],
   "source": [
    "# convert wide format to long format\n",
    "pigs_x_acc = pd.melt(pigs_x_data, id_vars = ['record_id', 'pigs_group'], value_name = 'acc', var_name = 'passage', \n",
    "                        value_vars = ['pigs_p1_r1_acc', 'pigs_p2_r1_acc'])\n",
    "pigs_x_acc['acc'] = pd.to_numeric(pigs_x_acc['acc'], errors='coerce')"
   ]
  },
  {
   "cell_type": "code",
   "execution_count": 18,
   "metadata": {
    "collapsed": true
   },
   "outputs": [],
   "source": [
    "# convert wide format to long format\n",
    "pigs_x_rate = pd.melt(pigs_x_data, id_vars = ['record_id', 'pigs_group'], value_name = 'rate', var_name = 'passage', \n",
    "                        value_vars = ['pigs_p1_r1_rate', 'pigs_p2_r1_rate'])\n",
    "pigs_x_rate['rate'] = pd.to_numeric(pigs_x_rate['rate'], errors='coerce')"
   ]
  },
  {
   "cell_type": "markdown",
   "metadata": {},
   "source": [
    "#### APPLY CODING STRUCTURE BY GROUP AND PASSAGE"
   ]
  },
  {
   "cell_type": "code",
   "execution_count": 19,
   "metadata": {
    "collapsed": true
   },
   "outputs": [],
   "source": [
    "# initialize coding variables\n",
    "pigs_x_acc['condition'] = np.nan\n",
    "pigs_x_acc['story'] = np.nan\n",
    "pigs_x_rate['condition'] = np.nan\n",
    "pigs_x_rate['story'] = np.nan"
   ]
  },
  {
   "cell_type": "code",
   "execution_count": 20,
   "metadata": {
    "collapsed": true
   },
   "outputs": [],
   "source": [
    "# loop through data and apply condition and story variable based on redcap coding \n",
    "# structure and study design randomization\n",
    "for ii in range(0, len(pigs_x_acc['record_id'])):\n",
    "        if pigs_x_acc['pigs_group'][ii] == 0.0:\n",
    "                if pigs_x_acc['passage'][ii] == 'pigs_p1_r1_acc':\n",
    "                    pigs_x_acc.loc[ii,'condition'] = 'normal'\n",
    "                    pigs_x_acc.loc[ii,'story'] = 'friend'\n",
    "                elif pigs_x_acc['passage'][ii] == 'pigs_p2_r1_acc':\n",
    "                    pigs_x_acc.loc[ii, 'condition'] = 'pigs'\n",
    "                    pigs_x_acc.loc[ii,'story'] = 'animal'\n",
    "                else:\n",
    "                    raise Exception('Error computing condition & story (bad passage, group 0)')\n",
    "        elif pigs_x_acc['pigs_group'][ii] == 1.0:\n",
    "                if pigs_x_acc['passage'][ii] == 'pigs_p1_r1_acc':\n",
    "                    pigs_x_acc.loc[ii,'condition'] = 'normal'\n",
    "                    pigs_x_acc.loc[ii,'story'] = 'animal'\n",
    "                elif pigs_x_acc['passage'][ii] == 'pigs_p2_r1_acc':\n",
    "                    pigs_x_acc.loc[ii, 'condition'] = 'pigs'\n",
    "                    pigs_x_acc.loc[ii,'story'] = 'friend'\n",
    "                else:\n",
    "                    raise Exception('Error computing condition & story (bad passage, group 1)')\n",
    "        elif pigs_x_acc['pigs_group'][ii] == 2.0:\n",
    "                if pigs_x_acc['passage'][ii] == 'pigs_p1_r1_acc':\n",
    "                        pigs_x_acc.loc[ii,'condition'] = 'pigs'\n",
    "                        pigs_x_acc.loc[ii,'story'] = 'friend'\n",
    "                elif pigs_x_acc['passage'][ii] == 'pigs_p2_r1_acc':\n",
    "                    pigs_x_acc.loc[ii, 'condition'] = 'normal'\n",
    "                    pigs_x_acc.loc[ii,'story'] = 'animal'\n",
    "                else:\n",
    "                    raise Exception('Error computing condition & story (bad passage, group 2)')\n",
    "        elif pigs_x_acc['pigs_group'][ii] == 3.0:\n",
    "                if pigs_x_acc['passage'][ii] == 'pigs_p1_r1_acc':\n",
    "                        pigs_x_acc.loc[ii,'condition'] = 'pigs'\n",
    "                        pigs_x_acc.loc[ii,'story'] = 'animal'\n",
    "                elif pigs_x_acc['passage'][ii] == 'pigs_p2_r1_acc':\n",
    "                    pigs_x_acc.loc[ii, 'condition'] = 'normal'\n",
    "                    pigs_x_acc.loc[ii,'story'] = 'friend'\n",
    "                else:\n",
    "                    raise Exception('Error computing condition & story (bad passage, group 3)')\n",
    "        elif math.isnan(pigs_x_acc['pigs_group'][ii]):\n",
    "            continue\n",
    "        else:\n",
    "            raise Exception('Error computing passage (bad pigs group)')"
   ]
  },
  {
   "cell_type": "code",
   "execution_count": 21,
   "metadata": {
    "collapsed": true
   },
   "outputs": [],
   "source": [
    "# repeat for rate structure\n",
    "for ii in range(0, len(pigs_x_rate['record_id'])):\n",
    "        if pigs_x_rate['pigs_group'][ii] == 0.0:\n",
    "                if pigs_x_rate['passage'][ii] == 'pigs_p1_r1_rate':\n",
    "                    pigs_x_rate.loc[ii,'condition'] = 'normal'\n",
    "                    pigs_x_rate.loc[ii,'story'] = 'friend'\n",
    "                elif pigs_x_rate['passage'][ii] == 'pigs_p2_r1_rate':\n",
    "                    pigs_x_rate.loc[ii, 'condition'] = 'pigs'\n",
    "                    pigs_x_rate.loc[ii,'story'] = 'animal'\n",
    "                else:\n",
    "                    raise Exception('Error computing condition & story (bad passage, group 0)')\n",
    "        elif pigs_x_rate['pigs_group'][ii] == 1.0:\n",
    "                if pigs_x_rate['passage'][ii] == 'pigs_p1_r1_rate':\n",
    "                    pigs_x_rate.loc[ii,'condition'] = 'normal'\n",
    "                    pigs_x_rate.loc[ii,'story'] = 'animal'\n",
    "                elif pigs_x_rate['passage'][ii] == 'pigs_p2_r1_rate':\n",
    "                    pigs_x_rate.loc[ii, 'condition'] = 'pigs'\n",
    "                    pigs_x_rate.loc[ii,'story'] = 'friend'\n",
    "                else:\n",
    "                    raise Exception('Error computing condition & story (bad passage, group 1)')\n",
    "        elif pigs_x_rate['pigs_group'][ii] == 2.0:\n",
    "                if pigs_x_rate['passage'][ii] == 'pigs_p1_r1_rate':\n",
    "                        pigs_x_rate.loc[ii,'condition'] = 'pigs'\n",
    "                        pigs_x_rate.loc[ii,'story'] = 'friend'\n",
    "                elif pigs_x_rate['passage'][ii] == 'pigs_p2_r1_rate':\n",
    "                    pigs_x_rate.loc[ii, 'condition'] = 'normal'\n",
    "                    pigs_x_rate.loc[ii,'story'] = 'animal'\n",
    "                else:\n",
    "                    raise Exception('Error computing condition & story (bad passage, group 2)')\n",
    "        elif pigs_x_rate['pigs_group'][ii] == 3.0:\n",
    "                if pigs_x_rate['passage'][ii] == 'pigs_p1_r1_rate':\n",
    "                        pigs_x_rate.loc[ii,'condition'] = 'pigs'\n",
    "                        pigs_x_rate.loc[ii,'story'] = 'animal'\n",
    "                elif pigs_x_rate['passage'][ii] == 'pigs_p2_r1_rate':\n",
    "                    pigs_x_rate.loc[ii, 'condition'] = 'normal'\n",
    "                    pigs_x_rate.loc[ii,'story'] = 'friend'\n",
    "                else:\n",
    "                    raise Exception('Error computing condition & story (bad passage, group 3)')\n",
    "        elif math.isnan(pigs_x_rate['pigs_group'][ii]):\n",
    "            continue\n",
    "        else:\n",
    "            raise Exception('Error computing passage (bad pigs group)')"
   ]
  },
  {
   "cell_type": "code",
   "execution_count": 22,
   "metadata": {
    "collapsed": true
   },
   "outputs": [],
   "source": [
    "# convert accuracy variable to proportion, accounting for varying passage lengths\n",
    "friend_len = 226\n",
    "animal_len = 242\n",
    "for ii in range(len(pigs_x_acc['record_id'])):\n",
    "    if np.isnan(pigs_x_acc.loc[ii, 'acc']):\n",
    "        continue\n",
    "    elif pigs_x_acc.loc[ii, 'story'] == 'friend':\n",
    "        pigs_x_acc.loc[ii, 'acc'] = pigs_x_acc.loc[ii, 'acc']/friend_len\n",
    "    elif pigs_x_acc.loc[ii, 'story'] == 'animal':\n",
    "        pigs_x_acc.loc[ii, 'acc'] = pigs_x_acc.loc[ii, 'acc']/animal_len"
   ]
  },
  {
   "cell_type": "markdown",
   "metadata": {},
   "source": [
    "### PLOTTING"
   ]
  },
  {
   "cell_type": "markdown",
   "metadata": {},
   "source": [
    "##### PASSAGE READING ACCURACY"
   ]
  },
  {
   "cell_type": "code",
   "execution_count": 23,
   "metadata": {},
   "outputs": [
    {
     "data": {
      "image/png": "[encoded data removed]",
      "text/plain": [
       "<matplotlib.figure.Figure at 0x2b63e3ff940>"
      ]
     },
     "metadata": {},
     "output_type": "display_data"
    }
   ],
   "source": [
    "acc_grouped = pigs_x_acc.groupby(['story', 'condition'])['acc'].mean()\n",
    "acc_error = pigs_x_acc.groupby(['story', 'condition'])['acc'].sem()\n",
    "\n",
    "fig3 = acc_grouped.plot(kind='bar', yerr=acc_error, style='seaborn-whitegrid',\n",
    "                                      legend=False, title='Passage Accuracy',\n",
    "                                        rot=0,  colormap='Accent')\n",
    "fig3.set_xlabel('Story, Condition')\n",
    "fig3.set_ylabel('Accuracy')\n",
    "fig3.set_ylim((0,1)) \n",
    "\n",
    "#save file\n",
    "plt.savefig('pigs_x_acc.svg',transparent=True)"
   ]
  },
  {
   "cell_type": "markdown",
   "metadata": {},
   "source": [
    "##### PASSAGE READING RATE"
   ]
  },
  {
   "cell_type": "code",
   "execution_count": 24,
   "metadata": {},
   "outputs": [
    {
     "data": {
      "image/png": "[encoded data removed]",
      "text/plain": [
       "<matplotlib.figure.Figure at 0x2b641c2ccc0>"
      ]
     },
     "metadata": {},
     "output_type": "display_data"
    }
   ],
   "source": [
    "rate_grouped = pigs_x_rate.groupby(['story', 'condition'])['rate'].mean()\n",
    "rate_error = pigs_x_rate.groupby(['story', 'condition'])['rate'].sem()\n",
    "\n",
    "fig4 = rate_grouped.plot(kind='bar', yerr=rate_error, style='seaborn-whitegrid',\n",
    "                                      legend=False, title='Passage Rate', \n",
    "                                      rot=0, colormap='Accent')\n",
    "fig4.set_xlabel('Story, Condition')\n",
    "fig4.set_ylabel('Mean Rate')\n",
    "\n",
    "\n",
    "#save file\n",
    "plt.savefig('pigs_x_rate.svg',transparent=True)"
   ]
  },
  {
   "cell_type": "markdown",
   "metadata": {},
   "source": [
    "### PREDICTORS"
   ]
  },
  {
   "cell_type": "code",
   "execution_count": 25,
   "metadata": {
    "collapsed": true
   },
   "outputs": [],
   "source": [
    "# get api token\n",
    "# if you need an access token, consult the RedCap API page\n",
    "home = os.path.expanduser('~')\n",
    "with open (home+\"/Desktop/redcap_apitoken_repo.txt\", \"r\") as myfile:\n",
    "    token=myfile.read().split()\n",
    "intake_report = {\n",
    "    'token': token,\n",
    "    'content': 'report',\n",
    "    'format': 'csv',\n",
    "    'report_id': '20197',\n",
    "    'rawOrLabel': 'raw',\n",
    "    'rawOrLabelHeaders': 'raw',\n",
    "    'exportCheckboxLabel': 'false',\n",
    "    'returnFormat': 'csv'\n",
    "}\n",
    "# specify API address\n",
    "redcap_path = 'https://redcap.iths.org/api/'\n",
    "# use requests module to pull data from database using api token\n",
    "# and convert to csv\n",
    "pull_intake = requests.post(redcap_path, data=intake_report)\n",
    "intake_report_filename =os.path.join(home+'/Downloads/intake_data.csv')\n",
    "with open(intake_report_filename, 'w') as report_file:\n",
    "        report_file.write(pull_intake.text)\n",
    "intake_data = pd.read_csv(intake_report_filename)"
   ]
  },
  {
   "cell_type": "code",
   "execution_count": 26,
   "metadata": {
    "collapsed": true
   },
   "outputs": [],
   "source": [
    "intake_data = intake_data[['record_id', 'wj_brs', 'twre_index', 'ctopp_rapid']]\n",
    "pigs_x_word = pigs_x_word.merge(intake_data, on='record_id')\n",
    "pigs_x_pseudo = pigs_x_pseudo.merge(intake_data, on='record_id')\n",
    "pigs_x_acc = pigs_x_acc.merge(intake_data, on='record_id')\n",
    "pigs_x_rate = pigs_x_rate.merge(intake_data, on='record_id')"
   ]
  },
  {
   "cell_type": "code",
   "execution_count": 27,
   "metadata": {},
   "outputs": [
    {
     "data": {
      "text/plain": [
       "<matplotlib.legend.Legend at 0x2b641e82390>"
      ]
     },
     "execution_count": 27,
     "metadata": {},
     "output_type": "execute_result"
    },
    {
     "data": {
      "image/png": "[encoded data removed]",
      "text/plain": [
       "<matplotlib.figure.Figure at 0x2b641de0c50>"
      ]
     },
     "metadata": {},
     "output_type": "display_data"
    }
   ],
   "source": [
    "plt.scatter(pigs_x_word.groupby(['record_id'])['wj_brs'].mean(), \n",
    "            pigs_x_word.groupby(['record_id'])['acc'].mean(), label='Word')\n",
    "plt.scatter(pigs_x_pseudo.groupby(['record_id'])['wj_brs'].mean(), \n",
    "            pigs_x_pseudo.groupby(['record_id'])['acc'].mean(), label='Pseudo')\n",
    "plt.title('WJ BRS v Decoding Accuracy')\n",
    "plt.xlabel('WJ Basic Reading Skills')\n",
    "plt.ylabel('Words Correct')\n",
    "plt.legend()"
   ]
  },
  {
   "cell_type": "code",
   "execution_count": 28,
   "metadata": {},
   "outputs": [
    {
     "data": {
      "text/plain": [
       "<matplotlib.legend.Legend at 0x2b641f335c0>"
      ]
     },
     "execution_count": 28,
     "metadata": {},
     "output_type": "execute_result"
    },
    {
     "data": {
      "image/png": "[encoded data removed]",
      "text/plain": [
       "<matplotlib.figure.Figure at 0x2b641eae8d0>"
      ]
     },
     "metadata": {},
     "output_type": "display_data"
    }
   ],
   "source": [
    "plt.scatter(pigs_x_word.groupby(['record_id'])['twre_index'].mean(), \n",
    "            pigs_x_word.groupby(['record_id'])['acc'].mean(), label='Word')\n",
    "plt.scatter(pigs_x_pseudo.groupby(['record_id'])['twre_index'].mean(), \n",
    "            pigs_x_pseudo.groupby(['record_id'])['acc'].mean(), label='Pseudo')\n",
    "plt.title('TWRE Index v Decoding Accuracy')\n",
    "plt.xlabel('TOWRE Index Score')\n",
    "plt.ylabel('Words Correct')\n",
    "plt.legend()"
   ]
  },
  {
   "cell_type": "code",
   "execution_count": 29,
   "metadata": {},
   "outputs": [
    {
     "data": {
      "text/plain": [
       "<matplotlib.legend.Legend at 0x2b641fe20b8>"
      ]
     },
     "execution_count": 29,
     "metadata": {},
     "output_type": "execute_result"
    },
    {
     "data": {
      "image/png": "[encoded data removed]",
      "text/plain": [
       "<matplotlib.figure.Figure at 0x2b641e486a0>"
      ]
     },
     "metadata": {},
     "output_type": "display_data"
    }
   ],
   "source": [
    "plt.scatter(pigs_x_word.groupby(['record_id'])['ctopp_rapid'].mean(), \n",
    "            pigs_x_word.groupby(['record_id'])['acc'].mean(), label='Word')\n",
    "plt.scatter(pigs_x_pseudo.groupby(['record_id'])['ctopp_rapid'].mean(), \n",
    "            pigs_x_pseudo.groupby(['record_id'])['acc'].mean(), label='Pseudo')\n",
    "plt.title('CTOPP RN v Decoding Accuracy')\n",
    "plt.xlabel('CTOPP Rapid Naming')\n",
    "plt.ylabel('Words Correct')\n",
    "plt.legend()"
   ]
  },
  {
   "cell_type": "markdown",
   "metadata": {},
   "source": [
    "#### EXPORT DATA TO CSV FOR LME ANALYSIS IN MATLAB"
   ]
  },
  {
   "cell_type": "code",
   "execution_count": 30,
   "metadata": {},
   "outputs": [],
   "source": [
    "pigs_x_word.to_csv(home+'/Desktop/pigs_x_word.csv')\n",
    "pigs_x_pseudo.to_csv(home+'/Desktop/pigs_x_pseudo.csv')\n",
    "pigs_x_acc.to_csv(home+'/Desktop/pigs_x_acc.csv')\n",
    "pigs_x_rate.to_csv(home+'/Desktop/pigs_x_rate.csv')"
   ]
  },
  {
   "cell_type": "code",
   "execution_count": null,
   "metadata": {
    "collapsed": true
   },
   "outputs": [],
   "source": []
  }
 ],
 "metadata": {
  "kernelspec": {
   "display_name": "Python 3",
   "language": "python",
   "name": "python3"
  },
  "language_info": {
   "codemirror_mode": {
    "name": "ipython",
    "version": 3
   },
   "file_extension": ".py",
   "mimetype": "text/x-python",
   "name": "python",
   "nbconvert_exporter": "python",
   "pygments_lexer": "ipython3",
   "version": "3.7.3"
  }
 },
 "nbformat": 4,
 "nbformat_minor": 2
}
