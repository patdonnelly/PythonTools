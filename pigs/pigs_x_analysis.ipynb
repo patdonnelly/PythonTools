{
 "cells": [
  {
   "cell_type": "code",
   "execution_count": 1,
   "metadata": {
    "collapsed": true
   },
   "outputs": [],
   "source": [
    "#PIGS_X ANALYSIS NOTEBOOK\n",
    "#Patrick M. Donnelly\n",
    "#University of Washington March 7th, 2019"
   ]
  },
  {
   "cell_type": "code",
   "execution_count": 85,
   "metadata": {
    "collapsed": true
   },
   "outputs": [],
   "source": [
    "# import necessary databases and libraries\n",
    "import pycurl,json,requests,sys,os,math\n",
    "import pandas as pd\n",
    "import numpy as np\n",
    "from scipy import stats\n",
    "# existing redcap API stipulates StringIO, but pycurl now works with BytesIO\n",
    "from io import BytesIO"
   ]
  },
  {
   "cell_type": "code",
   "execution_count": 3,
   "metadata": {
    "collapsed": true
   },
   "outputs": [],
   "source": [
    "# get api token\n",
    "# if you need an access token, consult the RedCap API page\n",
    "home = os.path.expanduser('~')\n",
    "with open (home+\"/Desktop/redcap_apitoken_repo.txt\", \"r\") as myfile:\n",
    "    token=myfile.read().split()"
   ]
  },
  {
   "cell_type": "code",
   "execution_count": 4,
   "metadata": {
    "collapsed": true
   },
   "outputs": [],
   "source": [
    "# say which report you want\n",
    "# report 33372 is the report in the repository called \"pigs_x data\"\n",
    "pigs_x_report = {\n",
    "    'token': token,\n",
    "    'content': 'report',\n",
    "    'format': 'csv',\n",
    "    'report_id': '33372',\n",
    "    'rawOrLabel': 'raw',\n",
    "    'rawOrLabelHeaders': 'raw',\n",
    "    'exportCheckboxLabel': 'false',\n",
    "    'returnFormat': 'csv'\n",
    "}"
   ]
  },
  {
   "cell_type": "code",
   "execution_count": 5,
   "metadata": {
    "collapsed": true
   },
   "outputs": [],
   "source": [
    "# specify API address\n",
    "redcap_path = 'https://redcap.iths.org/api/'\n",
    "# use requests module to pull data from database using api token\n",
    "# and convert to csv\n",
    "pull_pigs_x = requests.post(redcap_path, data=pigs_x_report)\n",
    "pigs_x_report_filename =os.path.join(home+'/Downloads/pigs_x_data.csv')\n",
    "with open(pigs_x_report_filename, 'w') as report_file:\n",
    "        report_file.write(pull_pigs_x.text)\n",
    "pigs_x_data = pd.read_csv(pigs_x_report_filename)"
   ]
  },
  {
   "cell_type": "code",
   "execution_count": 6,
   "metadata": {
    "collapsed": true
   },
   "outputs": [],
   "source": [
    "%matplotlib inline\n",
    "import matplotlib.pyplot as plt\n",
    "plt.style.use('seaborn-whitegrid')\n",
    "import numpy as np\n",
    "from scipy.stats import linregress\n",
    "from matplotlib import cm\n",
    "#from colorspacious import cspace_converter\n",
    "from collections import OrderedDict\n",
    "cmaps = OrderedDict()\n",
    "plt.rcParams['pdf.fonttype'] = 42\n",
    "from numpy.polynomial.polynomial import polyfit"
   ]
  },
  {
   "cell_type": "code",
   "execution_count": 29,
   "metadata": {},
   "outputs": [],
   "source": [
    "pigs_x_word = pd.melt(pigs_x_data, id_vars = ['record_id', 'pigs_group'], value_name = 'acc', var_name = 'list', \n",
    "                        value_vars = ['pigs_word1_acc', 'pigs_word2_acc', 'pigs_word3_acc', 'pigs_word4_acc'])"
   ]
  },
  {
   "cell_type": "code",
   "execution_count": 30,
   "metadata": {
    "collapsed": true
   },
   "outputs": [],
   "source": [
    "pigs_x_pseudo = pd.melt(pigs_x_data, id_vars = ['record_id', 'pigs_group'], value_name = 'acc', var_name = 'list', \n",
    "                        value_vars = ['pigs_pseudo1_acc', 'pigs_pseudo2_acc', 'pigs_pseudo3_acc', 'pigs_pseudo4_acc'])"
   ]
  },
  {
   "cell_type": "code",
   "execution_count": 40,
   "metadata": {},
   "outputs": [],
   "source": [
    "pigs_x_word = pigs_x_word.sort_values(by = ['record_id', 'list'])\n",
    "pigs_x_pseudo = pigs_x_pseudo.sort_values(by = ['record_id', 'list'])\n",
    "pigs_x_word = pigs_x_word.reset_index()\n",
    "pigs_x_pseudo = pigs_x_pseudo.reset_index()\n",
    "del pigs_x_word['index']\n",
    "del pigs_x_pseudo['index']"
   ]
  },
  {
   "cell_type": "code",
   "execution_count": 41,
   "metadata": {},
   "outputs": [],
   "source": [
    "pigs_x_word['condition'] = np.nan\n",
    "pigs_x_pseudo['condition'] = np.nan"
   ]
  },
  {
   "cell_type": "code",
   "execution_count": 86,
   "metadata": {},
   "outputs": [],
   "source": [
    "for ii in range(0, len(pigs_x_word['record_id'])):\n",
    "        if pigs_x_word['pigs_group'][ii] == 0.0 or pigs_x_word['pigs_group'][ii] == 2.0:\n",
    "                if pigs_x_word['list'][ii] == 'pigs_word1_acc' or pigs_x_word['list'][ii] == 'pigs_word3_acc':\n",
    "                    pigs_x_word.loc[ii,'condition'] = 'normal'\n",
    "                elif pigs_x_word['list'][ii] == 'pigs_word2_acc' or pigs_x_word['list'][ii] == 'pigs_word4_acc':\n",
    "                    pigs_x_word.loc[ii, 'condition'] = 'pigs'\n",
    "                else:\n",
    "                    raise Exception('Error computing condition (bad list, group 0 or 2)')\n",
    "        elif pigs_x_word['pigs_group'][ii] == 1.0 or pigs_x_word['pigs_group'][ii] == 3.0:\n",
    "                if pigs_x_word['list'][ii] == 'pigs_word1_acc' or pigs_x_word['list'][ii] == 'pigs_word3_acc':\n",
    "                    pigs_x_word.loc[ii,'condition'] = 'pigs'\n",
    "                elif pigs_x_word['list'][ii] == 'pigs_word2_acc' or pigs_x_word['list'][ii] == 'pigs_word4_acc':\n",
    "                    pigs_x_word.loc[ii, 'condition'] = 'normal'\n",
    "                else:\n",
    "                    raise Exception('Error computing condition (bad list, group 1 or 3)')\n",
    "        elif math.isnan(pigs_x_word['pigs_group'][ii]):\n",
    "            continue\n",
    "        else:\n",
    "            raise Exception('Error computing condition (bad pigs group)')"
   ]
  },
  {
   "cell_type": "code",
   "execution_count": null,
   "metadata": {
    "collapsed": true
   },
   "outputs": [],
   "source": []
  }
 ],
 "metadata": {
  "kernelspec": {
   "display_name": "Python 3",
   "language": "python",
   "name": "python3"
  },
  "language_info": {
   "codemirror_mode": {
    "name": "ipython",
    "version": 3
   },
   "file_extension": ".py",
   "mimetype": "text/x-python",
   "name": "python",
   "nbconvert_exporter": "python",
   "pygments_lexer": "ipython3",
   "version": "3.6.0"
  }
 },
 "nbformat": 4,
 "nbformat_minor": 2
}
