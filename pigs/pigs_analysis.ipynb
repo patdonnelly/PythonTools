{
 "cells": [
  {
   "cell_type": "code",
   "execution_count": 1,
   "metadata": {
    "collapsed": true
   },
   "outputs": [],
   "source": [
    "# PIGS ANALYSIS NOTEBOOK\n",
    "# Patrick M. Donnelly\n",
    "# University of Washington\n",
    "# August 6th, 2018"
   ]
  },
  {
   "cell_type": "code",
   "execution_count": 2,
   "metadata": {
    "collapsed": true
   },
   "outputs": [],
   "source": [
    "# import necessary databases and libraries\n",
    "import pycurl,json,requests,sys,os\n",
    "import pandas as pd\n",
    "import numpy as np\n",
    "# existing redcap API stipulates StringIO, but pycurl now works with BytesIO\n",
    "from io import BytesIO"
   ]
  },
  {
   "cell_type": "code",
   "execution_count": 3,
   "metadata": {},
   "outputs": [],
   "source": [
    "# get api token\n",
    "# if you need an access token, consult the RedCap API page\n",
    "home = os.path.expanduser('~')\n",
    "with open (home+\"/Desktop/redcap_apitoken_repo.txt\", \"r\") as myfile:\n",
    "    token=myfile.read().split()"
   ]
  },
  {
   "cell_type": "code",
   "execution_count": 4,
   "metadata": {
    "collapsed": true
   },
   "outputs": [],
   "source": [
    "# say which report you want\n",
    "# report 27719 is the report in the screening database called \"pigs_data\"\n",
    "report = {\n",
    "    'token': token,\n",
    "    'content': 'report',\n",
    "    'format': 'csv',\n",
    "    'report_id': '27719',\n",
    "    'rawOrLabel': 'raw',\n",
    "    'rawOrLabelHeaders': 'raw',\n",
    "    'exportCheckboxLabel': 'false',\n",
    "    'returnFormat': 'csv'\n",
    "}"
   ]
  },
  {
   "cell_type": "code",
   "execution_count": 5,
   "metadata": {},
   "outputs": [],
   "source": [
    "# specify API address\n",
    "redcap_path = 'https://redcap.iths.org/api/'\n",
    "# use requests module to pull data from database using api token\n",
    "# and convert to csv\n",
    "pull_pigs = requests.post(redcap_path, data=report)\n",
    "report_filename =os.path.join(home+'/Downloads/pigs_data.csv')\n",
    "with open(report_filename, 'w') as report_file:\n",
    "        report_file.write(pull_pigs.text)\n",
    "pigs_data = pd.read_csv(report_filename)\n",
    "visit1 = pigs_data[pigs_data['study_name'] == 41]\n",
    "visit2 = pigs_data[pigs_data['study_name'] == 42]"
   ]
  },
  {
   "cell_type": "code",
   "execution_count": 6,
   "metadata": {
    "collapsed": true
   },
   "outputs": [],
   "source": [
    "%matplotlib inline\n",
    "import matplotlib.pyplot as plt\n",
    "plt.style.use('seaborn-whitegrid')\n",
    "import numpy as np\n",
    "from scipy.stats import linregress"
   ]
  },
  {
   "cell_type": "code",
   "execution_count": 7,
   "metadata": {
    "collapsed": true
   },
   "outputs": [],
   "source": [
    "pigs_data['short_first_time'] = np.nan\n",
    "pigs_data['short_first_acc']  = np.nan\n",
    "pigs_data['short_first_rate']  = np.nan\n",
    "pigs_data['long_first_time']  = np.nan\n",
    "pigs_data['long_first_acc']  = np.nan\n",
    "pigs_data['long_first_rate']  = np.nan\n",
    "pigs_data['short_second_time']  = np.nan\n",
    "pigs_data['short_second_acc'] = np.nan\n",
    "pigs_data['short_second_rate'] = np.nan\n",
    "pigs_data['long_second_time'] = np.nan\n",
    "pigs_data['long_second_acc'] = np.nan\n",
    "pigs_data['long_second_rate'] = np.nan\n",
    "\n",
    "for ii in range(0, len(pigs_data['record_id'])):\n",
    "    if pigs_data['pigs_group'][ii] == 'A1' or 'B1':\n",
    "        pigs_data.loc[ii,'short_first_time'] = np.mean([pigs_data['pigs_p1_r1_time'][ii], pigs_data['pigs_p2_r1_time'][ii]])\n",
    "        pigs_data.loc[ii,'short_first_acc'] = np.mean([pigs_data['pigs_p1_r1_acc'][ii], pigs_data['pigs_p2_r1_acc'][ii]])\n",
    "        pigs_data.loc[ii,'short_first_rate'] = np.mean([pigs_data['pigs_p1_r1_rate'][ii], pigs_data['pigs_p2_r1_rate'][ii]])\n",
    "        pigs_data.loc[ii,'long_first_time'] = np.mean([pigs_data['pigs_p3_r1_time'][ii], pigs_data['pigs_p4_r1_time'][ii]])\n",
    "        pigs_data.loc[ii,'long_first_acc'] = np.mean([pigs_data['pigs_p3_r1_acc'][ii], pigs_data['pigs_p4_r1_acc'][ii]])\n",
    "        pigs_data.loc[ii,'long_first_rate'] = np.mean([pigs_data['pigs_p3_r1_rate'][ii], pigs_data['pigs_p4_r1_rate'][ii]])\n",
    "        \n",
    "        pigs_data.loc[ii,'short_second_time'] = np.mean([pigs_data['pigs_p1_r2_time'][ii], pigs_data['pigs_p2_r2_time'][ii]])\n",
    "        pigs_data.loc[ii,'short_second_acc'] = np.mean([pigs_data['pigs_p1_r2_acc'][ii], pigs_data['pigs_p2_r2_acc'][ii]])\n",
    "        pigs_data.loc[ii,'short_second_rate'] = np.mean([pigs_data['pigs_p1_r2_rate'][ii], pigs_data['pigs_p2_r2_rate'][ii]])\n",
    "        pigs_data.loc[ii,'long_second_time'] = np.mean([pigs_data['pigs_p3_r2_time'][ii], pigs_data['pigs_p4_r2_time'][ii]])\n",
    "        pigs_data.loc[ii,'long_second_acc'] = np.mean([pigs_data['pigs_p3_r2_acc'][ii], pigs_data['pigs_p4_r2_acc'][ii]])\n",
    "        pigs_data.loc[ii,'long_second_rate'] = np.mean([pigs_data['pigs_p3_r2_rate'][ii], pigs_data['pigs_p4_r2_rate'][ii]])\n"
   ]
  },
  {
   "cell_type": "code",
   "execution_count": 8,
   "metadata": {},
   "outputs": [],
   "source": [
    "pigs_data['word_time'] = np.nan\n",
    "pigs_data['word_acc'] = np.nan\n",
    "pigs_data['word_rate'] = np.nan\n",
    "pigs_data['pseudo_time'] = np.nan\n",
    "pigs_data['pseudo_acc'] = np.nan\n",
    "pigs_data['pseudo_rate'] = np.nan\n",
    "\n",
    "for ii in range(0, len(pigs_data['record_id'])):\n",
    "    pigs_data.loc[ii, 'word_time'] = np.mean([pigs_data['pigs_word1_time'][ii], pigs_data['pigs_word2_time'][ii]])\n",
    "    pigs_data.loc[ii, 'word_acc'] = np.mean([pigs_data['pigs_word1_acc'][ii], pigs_data['pigs_word2_acc'][ii]])\n",
    "    pigs_data.loc[ii, 'word_rate'] = np.mean([pigs_data['pigs_word1_rate'][ii], pigs_data['pigs_word2_rate'][ii]])\n",
    "    pigs_data.loc[ii, 'pseudo_time'] = np.mean([pigs_data['pigs_pseudo1_time'][ii], pigs_data['pigs_pseudo2_time'][ii]])\n",
    "    pigs_data.loc[ii, 'pseudo_acc'] = np.mean([pigs_data['pigs_pseudo1_acc'][ii], pigs_data['pigs_pseudo2_acc'][ii]])\n",
    "    pigs_data.loc[ii, 'pseudo_rate'] = np.mean([pigs_data['pigs_pseudo1_rate'][ii], pigs_data['pigs_pseudo2_rate'][ii]])\n",
    "\n",
    "for jj in range(1, len(pigs_data['record_id']), 2):\n",
    "    pigs_data.loc[jj, 'word_acc_diff'] = pigs_data['word_acc'][pigs_data['study_name'] == 42][jj] - pigs_data['word_acc'][pigs_data['study_name'] == 41][jj-1]\n",
    "    pigs_data.loc[jj, 'pseudo_acc_diff'] = pigs_data['pseudo_acc'][pigs_data['study_name'] == 42][jj] - pigs_data['pseudo_acc'][pigs_data['study_name'] == 41][jj-1]"
   ]
  },
  {
   "cell_type": "code",
   "execution_count": 9,
   "metadata": {
    "collapsed": true
   },
   "outputs": [],
   "source": [
    "passage_data = pigs_data[['pigs_casecontrol', 'study_name', 'short_first_time', \n",
    "                          'short_first_acc', 'short_first_rate', 'long_first_time', \n",
    "                          'long_first_acc','long_first_rate', 'short_second_time', \n",
    "                          'short_second_acc', 'short_second_rate', \n",
    "                          'long_second_time', 'long_second_acc', 'long_second_rate']]\n",
    "wordlist_data = pigs_data[['pigs_casecontrol', 'study_name','word_time', 'word_acc', 'word_rate',\n",
    "                           'pseudo_time', 'pseudo_acc', 'pseudo_rate']]\n",
    "passage_accuracy = pigs_data[['pigs_casecontrol', 'study_name','short_first_acc',\n",
    "                          'long_first_acc','short_second_acc', 'long_second_acc']]\n",
    "passage_rate = pigs_data[['pigs_casecontrol', 'study_name', 'short_first_rate', \n",
    "                          'long_first_rate', 'short_second_rate', 'long_second_rate']]\n",
    "wordlist_acc_data = pigs_data[['pigs_casecontrol', 'study_name','word_acc','pseudo_acc']]\n",
    "wordlist_acc_diff_data = pigs_data[['pigs_casecontrol', 'word_acc_diff', 'pseudo_acc_diff']]\n",
    "wordlist_rate_data = pigs_data[['pigs_casecontrol', 'study_name', 'word_rate','pseudo_rate']]"
   ]
  },
  {
   "cell_type": "code",
   "execution_count": 12,
   "metadata": {
    "collapsed": true
   },
   "outputs": [],
   "source": [
    "acc_grouped = passage_accuracy.groupby(['pigs_casecontrol', 'study_name']).mean()"
   ]
  },
  {
   "cell_type": "code",
   "execution_count": 13,
   "metadata": {},
   "outputs": [
    {
     "data": {
      "text/plain": [
       "<matplotlib.axes._subplots.AxesSubplot at 0x2196ff6c8d0>"
      ]
     },
     "execution_count": 13,
     "metadata": {},
     "output_type": "execute_result"
    },
    {
     "data": {
      "image/png": "[encoded data removed]",
      "text/plain": [
       "<matplotlib.figure.Figure at 0x2197000d8d0>"
      ]
     },
     "metadata": {},
     "output_type": "display_data"
    }
   ],
   "source": [
    "acc_grouped.plot(kind='bar')"
   ]
  },
  {
   "cell_type": "code",
   "execution_count": 14,
   "metadata": {
    "collapsed": true
   },
   "outputs": [],
   "source": [
    "rate_grouped = passage_rate.groupby(['pigs_casecontrol', 'study_name']).mean()"
   ]
  },
  {
   "cell_type": "code",
   "execution_count": 15,
   "metadata": {},
   "outputs": [
    {
     "data": {
      "text/plain": [
       "<matplotlib.axes._subplots.AxesSubplot at 0x21971165dd8>"
      ]
     },
     "execution_count": 15,
     "metadata": {},
     "output_type": "execute_result"
    },
    {
     "data": {
      "image/png": "[encoded data removed]",
      "text/plain": [
       "<matplotlib.figure.Figure at 0x21971133d68>"
      ]
     },
     "metadata": {},
     "output_type": "display_data"
    }
   ],
   "source": [
    "rate_grouped.plot(kind='bar')"
   ]
  },
  {
   "cell_type": "code",
   "execution_count": 16,
   "metadata": {},
   "outputs": [
    {
     "data": {
      "text/plain": [
       "<matplotlib.axes._subplots.AxesSubplot at 0x2197000d7b8>"
      ]
     },
     "execution_count": 16,
     "metadata": {},
     "output_type": "execute_result"
    },
    {
     "data": {
      "image/png": "[encoded data removed]",
      "text/plain": [
       "<matplotlib.figure.Figure at 0x219711bebe0>"
      ]
     },
     "metadata": {},
     "output_type": "display_data"
    }
   ],
   "source": [
    "wordlist_acc_grouped = wordlist_acc_data.groupby(['pigs_casecontrol', 'study_name']).mean()\n",
    "wl_acc_grpd_error = wordlist_acc_data.groupby(['pigs_casecontrol']).sem()\n",
    "wordlist_acc_grouped.plot(kind='bar', yerr=wl_acc_grpd_error)"
   ]
  },
  {
   "cell_type": "code",
   "execution_count": 17,
   "metadata": {},
   "outputs": [
    {
     "data": {
      "text/plain": [
       "<matplotlib.axes._subplots.AxesSubplot at 0x21971172b00>"
      ]
     },
     "execution_count": 17,
     "metadata": {},
     "output_type": "execute_result"
    },
    {
     "data": {
      "image/png": "[encoded data removed]",
      "text/plain": [
       "<matplotlib.figure.Figure at 0x2197106af28>"
      ]
     },
     "metadata": {},
     "output_type": "display_data"
    }
   ],
   "source": [
    "wordlist_acc_diff_grouped = wordlist_acc_diff_data.groupby(['pigs_casecontrol']).mean()\n",
    "wl_acc_diff_grpd_error = wordlist_acc_diff_data.groupby(['pigs_casecontrol']).sem()\n",
    "wordlist_acc_diff_grouped.plot(kind='bar', yerr=wl_acc_diff_grpd_error)"
   ]
  },
  {
   "cell_type": "code",
   "execution_count": 19,
   "metadata": {
    "collapsed": true
   },
   "outputs": [],
   "source": [
    "wordlist_rate_grouped = wordlist_rate_data.groupby(['pigs_casecontrol', 'study_name']).mean()"
   ]
  },
  {
   "cell_type": "code",
   "execution_count": 20,
   "metadata": {},
   "outputs": [
    {
     "data": {
      "text/plain": [
       "<matplotlib.axes._subplots.AxesSubplot at 0x219713b3400>"
      ]
     },
     "execution_count": 20,
     "metadata": {},
     "output_type": "execute_result"
    },
    {
     "data": {
      "image/png": "[encoded data removed]",
      "text/plain": [
       "<matplotlib.figure.Figure at 0x21971051860>"
      ]
     },
     "metadata": {},
     "output_type": "display_data"
    }
   ],
   "source": [
    "wordlist_rate_grouped.plot(kind='bar')"
   ]
  }
 ],
 "metadata": {
  "kernelspec": {
   "display_name": "Python 3",
   "language": "python",
   "name": "python3"
  },
  "language_info": {
   "codemirror_mode": {
    "name": "ipython",
    "version": 3
   },
   "file_extension": ".py",
   "mimetype": "text/x-python",
   "name": "python",
   "nbconvert_exporter": "python",
   "pygments_lexer": "ipython3",
   "version": "3.6.0"
  }
 },
 "nbformat": 4,
 "nbformat_minor": 2
}
