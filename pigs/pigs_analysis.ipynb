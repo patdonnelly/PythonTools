{
 "cells": [
  {
   "cell_type": "markdown",
   "metadata": {
    "collapsed": true
   },
   "source": [
    "PIGS ANALYSIS NOTEBOOK  \n",
    "Patrick M. Donnelly  \n",
    "University of Washington\n",
    "October 24th, 2018  "
   ]
  },
  {
   "cell_type": "code",
   "execution_count": 1,
   "metadata": {},
   "outputs": [],
   "source": [
    "# import necessary databases and libraries\n",
    "import json,requests,sys,os\n",
    "import pandas as pd\n",
    "import numpy as np\n",
    "from scipy import stats\n",
    "# existing redcap API stipulates StringIO, but pycurl now works with BytesIO\n",
    "from io import BytesIO"
   ]
  },
  {
   "cell_type": "code",
   "execution_count": 2,
   "metadata": {},
   "outputs": [],
   "source": [
    "# get api token\n",
    "# if you need an access token, consult the RedCap API page\n",
    "home = os.path.expanduser('~')\n",
    "with open (home+\"/Desktop/redcap_apitoken_repo.txt\", \"r\") as myfile:\n",
    "    token=myfile.read().split()"
   ]
  },
  {
   "cell_type": "code",
   "execution_count": 3,
   "metadata": {},
   "outputs": [],
   "source": [
    "# say which report you want\n",
    "# report 27719 is the report in the screening database called \"pigs_data\"\n",
    "pigs_report = {\n",
    "    'token': token,\n",
    "    'content': 'report',\n",
    "    'format': 'csv',\n",
    "    'report_id': '27719',\n",
    "    'rawOrLabel': 'raw',\n",
    "    'rawOrLabelHeaders': 'raw',\n",
    "    'exportCheckboxLabel': 'false',\n",
    "    'returnFormat': 'csv'\n",
    "}\n",
    "intake_report = {\n",
    "    'token': token,\n",
    "    'content': 'report',\n",
    "    'format': 'csv',\n",
    "    'report_id': '20197',\n",
    "    'rawOrLabel': 'raw',\n",
    "    'rawOrLabelHeaders': 'raw',\n",
    "    'exportCheckboxLabel': 'false',\n",
    "    'returnFormat': 'csv'\n",
    "}"
   ]
  },
  {
   "cell_type": "code",
   "execution_count": 4,
   "metadata": {},
   "outputs": [],
   "source": [
    "# specify API address\n",
    "redcap_path = 'https://redcap.iths.org/api/'\n",
    "# use requests module to pull data from database using api token\n",
    "# and convert to csv\n",
    "pull_pigs = requests.post(redcap_path, data=pigs_report)\n",
    "pull_intake = requests.post(redcap_path, data=intake_report)\n",
    "pigs_report_filename =os.path.join(home+'/Downloads/pigs_data.csv')\n",
    "intake_report_filename =os.path.join(home+'/Downloads/intake_data.csv')\n",
    "with open(pigs_report_filename, 'w') as report_file:\n",
    "        report_file.write(pull_pigs.text)\n",
    "pigs_data = pd.read_csv(pigs_report_filename)\n",
    "with open(intake_report_filename, 'w') as report_file:\n",
    "        report_file.write(pull_intake.text)\n",
    "intake_data = pd.read_csv(intake_report_filename)"
   ]
  },
  {
   "cell_type": "code",
   "execution_count": 5,
   "metadata": {},
   "outputs": [],
   "source": [
    "%matplotlib inline\n",
    "import matplotlib.pyplot as plt\n",
    "plt.style.use('seaborn-whitegrid')\n",
    "import numpy as np\n",
    "from scipy.stats import linregress\n",
    "from matplotlib import cm\n",
    "#from colorspacious import cspace_converter\n",
    "from collections import OrderedDict\n",
    "cmaps = OrderedDict()\n",
    "plt.rcParams['pdf.fonttype'] = 42\n",
    "from numpy.polynomial.polynomial import polyfit"
   ]
  },
  {
   "cell_type": "code",
   "execution_count": 6,
   "metadata": {},
   "outputs": [],
   "source": [
    "for ii in range(0, len(pigs_data['record_id'])):\n",
    "    if pigs_data['study_name'][ii] == 41 and (pigs_data['pigs_group'][ii] == 0 or pigs_data['pigs_group'][ii] == 2):\n",
    "            pigs_data.loc[ii,'pigs_p1_r1_acc'] = pigs_data.loc[ii,'pigs_p1_r1_acc']/237\n",
    "            pigs_data.loc[ii,'pigs_p1_r2_acc'] = pigs_data.loc[ii,'pigs_p1_r2_acc']/237\n",
    "            pigs_data.loc[ii,'pigs_p2_r1_acc'] = pigs_data.loc[ii,'pigs_p2_r1_acc']/223\n",
    "            pigs_data.loc[ii,'pigs_p2_r2_acc'] = pigs_data.loc[ii,'pigs_p2_r2_acc']/223\n",
    "            pigs_data.loc[ii,'pigs_p3_r1_acc'] = pigs_data.loc[ii,'pigs_p3_r1_acc']/301\n",
    "            pigs_data.loc[ii,'pigs_p3_r2_acc'] = pigs_data.loc[ii,'pigs_p3_r2_acc']/301\n",
    "            pigs_data.loc[ii,'pigs_p4_r1_acc'] = pigs_data.loc[ii,'pigs_p4_r1_acc']/300\n",
    "            pigs_data.loc[ii,'pigs_p4_r2_acc'] = pigs_data.loc[ii,'pigs_p4_r2_acc']/300\n",
    "    elif pigs_data['study_name'][ii] == 41 and (pigs_data['pigs_group'][ii] == 1 or pigs_data['pigs_group'][ii] == 3):\n",
    "            pigs_data.loc[ii,'pigs_p1_r1_acc'] = pigs_data.loc[ii,'pigs_p1_r1_acc']/301\n",
    "            pigs_data.loc[ii,'pigs_p1_r2_acc'] = pigs_data.loc[ii,'pigs_p1_r2_acc']/301\n",
    "            pigs_data.loc[ii,'pigs_p2_r1_acc'] = pigs_data.loc[ii,'pigs_p2_r1_acc']/300\n",
    "            pigs_data.loc[ii,'pigs_p2_r2_acc'] = pigs_data.loc[ii,'pigs_p2_r2_acc']/300\n",
    "            pigs_data.loc[ii,'pigs_p3_r1_acc'] = pigs_data.loc[ii,'pigs_p3_r1_acc']/237\n",
    "            pigs_data.loc[ii,'pigs_p3_r2_acc'] = pigs_data.loc[ii,'pigs_p3_r2_acc']/237\n",
    "            pigs_data.loc[ii,'pigs_p4_r1_acc'] = pigs_data.loc[ii,'pigs_p4_r1_acc']/223\n",
    "            pigs_data.loc[ii,'pigs_p4_r2_acc'] = pigs_data.loc[ii,'pigs_p4_r2_acc']/223\n",
    "    elif pigs_data['study_name'][ii] == 42 and (pigs_data['pigs_group'][ii] == 0 or pigs_data['pigs_group'][ii] == 2):\n",
    "            pigs_data.loc[ii,'pigs_p1_r1_acc'] = pigs_data.loc[ii,'pigs_p1_r1_acc']/259\n",
    "            pigs_data.loc[ii,'pigs_p1_r2_acc'] = pigs_data.loc[ii,'pigs_p1_r2_acc']/259\n",
    "            pigs_data.loc[ii,'pigs_p2_r1_acc'] = pigs_data.loc[ii,'pigs_p2_r1_acc']/258\n",
    "            pigs_data.loc[ii,'pigs_p2_r2_acc'] = pigs_data.loc[ii,'pigs_p2_r2_acc']/258\n",
    "            pigs_data.loc[ii,'pigs_p3_r1_acc'] = pigs_data.loc[ii,'pigs_p3_r1_acc']/359\n",
    "            pigs_data.loc[ii,'pigs_p3_r2_acc'] = pigs_data.loc[ii,'pigs_p3_r2_acc']/359\n",
    "            pigs_data.loc[ii,'pigs_p4_r1_acc'] = pigs_data.loc[ii,'pigs_p4_r1_acc']/333\n",
    "            pigs_data.loc[ii,'pigs_p4_r2_acc'] = pigs_data.loc[ii,'pigs_p4_r2_acc']/333    \n",
    "    elif pigs_data['study_name'][ii] == 42 and (pigs_data['pigs_group'][ii] == 1 or pigs_data['pigs_group'][ii] == 3):\n",
    "            pigs_data.loc[ii,'pigs_p1_r1_acc'] = pigs_data.loc[ii,'pigs_p1_r1_acc']/359\n",
    "            pigs_data.loc[ii,'pigs_p1_r2_acc'] = pigs_data.loc[ii,'pigs_p1_r2_acc']/359\n",
    "            pigs_data.loc[ii,'pigs_p2_r1_acc'] = pigs_data.loc[ii,'pigs_p2_r1_acc']/333\n",
    "            pigs_data.loc[ii,'pigs_p2_r2_acc'] = pigs_data.loc[ii,'pigs_p2_r2_acc']/333\n",
    "            pigs_data.loc[ii,'pigs_p3_r1_acc'] = pigs_data.loc[ii,'pigs_p3_r1_acc']/259\n",
    "            pigs_data.loc[ii,'pigs_p3_r2_acc'] = pigs_data.loc[ii,'pigs_p3_r2_acc']/259\n",
    "            pigs_data.loc[ii,'pigs_p4_r1_acc'] = pigs_data.loc[ii,'pigs_p4_r1_acc']/258\n",
    "            pigs_data.loc[ii,'pigs_p4_r2_acc'] = pigs_data.loc[ii,'pigs_p4_r2_acc']/258"
   ]
  },
  {
   "cell_type": "code",
   "execution_count": 7,
   "metadata": {},
   "outputs": [],
   "source": [
    "pigs_data['short_first_time'] = np.nan\n",
    "pigs_data['short_first_acc']  = np.nan\n",
    "pigs_data['short_first_rate']  = np.nan\n",
    "pigs_data['long_first_time']  = np.nan\n",
    "pigs_data['long_first_acc']  = np.nan\n",
    "pigs_data['long_first_rate']  = np.nan\n",
    "pigs_data['short_second_time']  = np.nan\n",
    "pigs_data['short_second_acc'] = np.nan\n",
    "pigs_data['short_second_rate'] = np.nan\n",
    "pigs_data['long_second_time'] = np.nan\n",
    "pigs_data['long_second_acc'] = np.nan\n",
    "pigs_data['long_second_rate'] = np.nan\n",
    "\n",
    "for ii in range(0, len(pigs_data['record_id'])):\n",
    "    if pigs_data['pigs_group'][ii] == 'A1' or 'B1':\n",
    "        pigs_data.loc[ii,'short_first_time'] = np.mean([pigs_data['pigs_p1_r1_time'][ii], pigs_data['pigs_p2_r1_time'][ii]])\n",
    "        pigs_data.loc[ii,'short_first_acc'] = np.mean([pigs_data['pigs_p1_r1_acc'][ii], pigs_data['pigs_p2_r1_acc'][ii]])\n",
    "        pigs_data.loc[ii,'short_first_rate'] = np.mean([pigs_data['pigs_p1_r1_rate'][ii], pigs_data['pigs_p2_r1_rate'][ii]])\n",
    "        pigs_data.loc[ii,'long_first_time'] = np.mean([pigs_data['pigs_p3_r1_time'][ii], pigs_data['pigs_p4_r1_time'][ii]])\n",
    "        pigs_data.loc[ii,'long_first_acc'] = np.mean([pigs_data['pigs_p3_r1_acc'][ii], pigs_data['pigs_p4_r1_acc'][ii]])\n",
    "        pigs_data.loc[ii,'long_first_rate'] = np.mean([pigs_data['pigs_p3_r1_rate'][ii], pigs_data['pigs_p4_r1_rate'][ii]])\n",
    "        \n",
    "        pigs_data.loc[ii,'short_second_time'] = np.mean([pigs_data['pigs_p1_r2_time'][ii], pigs_data['pigs_p2_r2_time'][ii]])\n",
    "        pigs_data.loc[ii,'short_second_acc'] = np.mean([pigs_data['pigs_p1_r2_acc'][ii], pigs_data['pigs_p2_r2_acc'][ii]])\n",
    "        pigs_data.loc[ii,'short_second_rate'] = np.mean([pigs_data['pigs_p1_r2_rate'][ii], pigs_data['pigs_p2_r2_rate'][ii]])\n",
    "        pigs_data.loc[ii,'long_second_time'] = np.mean([pigs_data['pigs_p3_r2_time'][ii], pigs_data['pigs_p4_r2_time'][ii]])\n",
    "        pigs_data.loc[ii,'long_second_acc'] = np.mean([pigs_data['pigs_p3_r2_acc'][ii], pigs_data['pigs_p4_r2_acc'][ii]])\n",
    "        pigs_data.loc[ii,'long_second_rate'] = np.mean([pigs_data['pigs_p3_r2_rate'][ii], pigs_data['pigs_p4_r2_rate'][ii]])\n",
    "    elif pigs_data['pigs_group'][ii] == 'A2' or 'B2':\n",
    "        pigs_data.loc[ii,'short_first_time'] = np.mean([pigs_data['pigs_p3_r1_time'][ii], pigs_data['pigs_p4_r1_time'][ii]])\n",
    "        pigs_data.loc[ii,'short_first_acc'] = np.mean([pigs_data['pigs_p3_r1_acc'][ii], pigs_data['pigs_p4_r1_acc'][ii]])\n",
    "        pigs_data.loc[ii,'short_first_rate'] = np.mean([pigs_data['pigs_p3_r1_rate'][ii], pigs_data['pigs_p4_r1_rate'][ii]])\n",
    "        pigs_data.loc[ii,'long_first_time'] = np.mean([pigs_data['pigs_p1_r1_time'][ii], pigs_data['pigs_p2_r1_time'][ii]])\n",
    "        pigs_data.loc[ii,'long_first_acc'] = np.mean([pigs_data['pigs_p1_r1_acc'][ii], pigs_data['pigs_p4_r2_acc'][ii]])\n",
    "        pigs_data.loc[ii,'long_first_rate'] = np.mean([pigs_data['pigs_p1_r1_rate'][ii], pigs_data['pigs_p4_r2_rate'][ii]])\n",
    "        \n",
    "        pigs_data.loc[ii,'short_second_time'] = np.mean([pigs_data['pigs_p3_r2_time'][ii], pigs_data['pigs_p4_r2_time'][ii]])\n",
    "        pigs_data.loc[ii,'short_second_acc'] = np.mean([pigs_data['pigs_p3_r2_acc'][ii], pigs_data['pigs_p4_r2_acc'][ii]])\n",
    "        pigs_data.loc[ii,'short_second_rate'] = np.mean([pigs_data['pigs_p3_r2_rate'][ii], pigs_data['pigs_p4_r2_rate'][ii]])\n",
    "        pigs_data.loc[ii,'long_second_time'] = np.mean([pigs_data['pigs_p1_r2_time'][ii], pigs_data['pigs_p2_r2_time'][ii]])\n",
    "        pigs_data.loc[ii,'long_second_acc'] = np.mean([pigs_data['pigs_p1_r2_acc'][ii], pigs_data['pigs_p2_r2_acc'][ii]])\n",
    "        pigs_data.loc[ii,'long_second_rate'] = np.mean([pigs_data['pigs_p1_r2_rate'][ii], pigs_data['pigs_p2_r2_rate'][ii]])"
   ]
  },
  {
   "cell_type": "code",
   "execution_count": 8,
   "metadata": {},
   "outputs": [],
   "source": [
    "pigs_data['word_time'] = np.nan\n",
    "pigs_data['word_acc'] = np.nan\n",
    "pigs_data['word_rate'] = np.nan\n",
    "pigs_data['pseudo_time'] = np.nan\n",
    "pigs_data['pseudo_acc'] = np.nan\n",
    "pigs_data['pseudo_rate'] = np.nan\n",
    "\n",
    "for ii in range(0, len(pigs_data['record_id'])):\n",
    "    pigs_data.loc[ii, 'word_time'] = np.mean([pigs_data['pigs_word1_time'][ii], pigs_data['pigs_word2_time'][ii]])\n",
    "    pigs_data.loc[ii, 'word_acc'] = np.mean([pigs_data['pigs_word1_acc'][ii], pigs_data['pigs_word2_acc'][ii]])\n",
    "    pigs_data.loc[ii, 'word_rate'] = np.mean([pigs_data['pigs_word1_rate'][ii], pigs_data['pigs_word2_rate'][ii]])\n",
    "    pigs_data.loc[ii, 'pseudo_time'] = np.mean([pigs_data['pigs_pseudo1_time'][ii], pigs_data['pigs_pseudo2_time'][ii]])\n",
    "    pigs_data.loc[ii, 'pseudo_acc'] = np.mean([pigs_data['pigs_pseudo1_acc'][ii], pigs_data['pigs_pseudo2_acc'][ii]])\n",
    "    pigs_data.loc[ii, 'pseudo_rate'] = np.mean([pigs_data['pigs_pseudo1_rate'][ii], pigs_data['pigs_pseudo2_rate'][ii]])\n",
    "\n",
    "for jj in range(1, len(pigs_data['record_id']), 2):\n",
    "    pigs_data.loc[jj, 'word_acc_diff'] = pigs_data['word_acc'][pigs_data['study_name'] == 42][jj] - pigs_data['word_acc'][pigs_data['study_name'] == 41][jj-1]\n",
    "    pigs_data.loc[jj, 'pseudo_acc_diff'] = pigs_data['pseudo_acc'][pigs_data['study_name'] == 42][jj] - pigs_data['pseudo_acc'][pigs_data['study_name'] == 41][jj-1]"
   ]
  },
  {
   "cell_type": "code",
   "execution_count": 9,
   "metadata": {},
   "outputs": [],
   "source": [
    "pigs_data['short_acc'] = np.nan\n",
    "pigs_data['short_rate'] = np.nan\n",
    "pigs_data['long_acc'] = np.nan\n",
    "pigs_data['long_rate'] = np.nan\n",
    "pigs_data['first_acc'] = np.nan\n",
    "pigs_data['second_rate'] = np.nan\n",
    "\n",
    "for ii in range(0, len(pigs_data['record_id'])):\n",
    "    pigs_data.loc[ii, 'short_acc'] = np.mean([pigs_data['short_first_acc'][ii], pigs_data['short_second_acc'][ii]])\n",
    "    pigs_data.loc[ii, 'short_rate'] = np.mean([pigs_data['short_first_rate'][ii], pigs_data['short_second_rate'][ii]])\n",
    "    pigs_data.loc[ii, 'long_acc'] = np.mean([pigs_data['long_first_acc'][ii], pigs_data['long_second_acc'][ii]])\n",
    "    pigs_data.loc[ii, 'long_rate'] = np.mean([pigs_data['long_first_rate'][ii], pigs_data['short_second_rate'][ii]])\n",
    "    pigs_data.loc[ii, 'first_acc'] = np.mean([pigs_data['short_first_acc'][ii], pigs_data['long_first_acc'][ii]])\n",
    "    pigs_data.loc[ii, 'second_rate'] = np.mean([pigs_data['short_second_rate'][ii], pigs_data['long_second_rate'][ii]])\n",
    "    \n",
    "for jj in range(1, len(pigs_data['record_id']), 2):\n",
    "    pigs_data.loc[jj, 'short_acc_diff'] = pigs_data['short_acc'][pigs_data['study_name'] == 42][jj] - pigs_data['short_acc'][pigs_data['study_name'] == 41][jj-1]\n",
    "    pigs_data.loc[jj, 'short_rate_diff'] = pigs_data['short_rate'][pigs_data['study_name'] == 42][jj] - pigs_data['short_rate'][pigs_data['study_name'] == 41][jj-1]\n",
    "    pigs_data.loc[jj, 'long_acc_diff'] = pigs_data['long_acc'][pigs_data['study_name'] == 42][jj] - pigs_data['long_acc'][pigs_data['study_name'] == 41][jj-1]\n",
    "    pigs_data.loc[jj, 'long_rate_diff'] = pigs_data['long_rate'][pigs_data['study_name'] == 42][jj] - pigs_data['long_rate'][pigs_data['study_name'] == 41][jj-1]\n",
    "    pigs_data.loc[jj, 'first_acc_diff'] = pigs_data['first_acc'][pigs_data['study_name'] == 42][jj] - pigs_data['first_acc'][pigs_data['study_name'] == 41][jj-1]\n",
    "    pigs_data.loc[jj, 'second_rate_diff'] = pigs_data['second_rate'][pigs_data['study_name'] == 42][jj] - pigs_data['second_rate'][pigs_data['study_name'] == 41][jj-1]"
   ]
  },
  {
   "cell_type": "code",
   "execution_count": 10,
   "metadata": {},
   "outputs": [],
   "source": [
    "intake_data = intake_data[['record_id', 'wj_brs', 'twre_index', 'ctopp_rapid', 'wasi_fs2', 'ctopp_pa']]\n",
    "pigs_data = pigs_data.merge(intake_data, on='record_id')"
   ]
  },
  {
   "cell_type": "code",
   "execution_count": 11,
   "metadata": {},
   "outputs": [],
   "source": [
    "passage_data = pigs_data[['pigs_casecontrol', 'study_name', 'short_first_time', \n",
    "                          'short_first_acc', 'short_first_rate', 'long_first_time', \n",
    "                          'long_first_acc','long_first_rate', 'short_second_time', \n",
    "                          'short_second_acc', 'short_second_rate', \n",
    "                          'long_second_time', 'long_second_acc', 'long_second_rate']]\n",
    "passage_diff_data = pigs_data[['pigs_casecontrol', 'study_name', 'first_acc_diff', 'second_rate_diff']]\n",
    "wordlist_data = pigs_data[['pigs_casecontrol', 'study_name','word_time', 'word_acc', 'word_rate',\n",
    "                           'pseudo_time', 'pseudo_acc', 'pseudo_rate']]\n",
    "wordlist_acc_data = pigs_data[['record_id', 'int_session', 'pigs_casecontrol', \n",
    "                               'study_name','pigs_word1_acc', 'pigs_word2_acc', \n",
    "                               'pigs_pseudo1_acc', 'pigs_pseudo2_acc']]\n",
    "wordlist_acc_diff_data = pigs_data[['pigs_casecontrol', 'word_acc_diff', 'pseudo_acc_diff']]\n",
    "wordlist_rate_data = pigs_data[['pigs_casecontrol', 'study_name', 'word_rate','pseudo_rate']]\n",
    "matlab_data = pigs_data[['record_id', 'int_session', 'pigs_casecontrol', \n",
    "                               'study_name','pigs_word1_acc', 'pigs_word2_acc', \n",
    "                               'pigs_pseudo1_acc', 'pigs_pseudo2_acc','first_acc', 'second_rate', 'wj_brs', 'twre_index',\n",
    "                         'ctopp_rapid','pigs_practice_numstories']]\n",
    "first_accuracy = pigs_data[['pigs_casecontrol', 'study_name','short_first_acc',\n",
    "                          'long_first_acc', 'first_acc_diff']]\n",
    "second_rate = pigs_data[['pigs_casecontrol', 'study_name', 'short_second_rate', 'long_second_rate', 'second_rate_diff']]\n"
   ]
  },
  {
   "cell_type": "code",
   "execution_count": 12,
   "metadata": {},
   "outputs": [
    {
     "data": {
      "text/plain": [
       "[<matplotlib.lines.Line2D at 0x16d241ee0b8>]"
      ]
     },
     "execution_count": 12,
     "metadata": {},
     "output_type": "execute_result"
    },
    {
     "data": {
      "image/png": "[encoded data removed]",
      "text/plain": [
       "<Figure size 432x288 with 1 Axes>"
      ]
     },
     "metadata": {
      "needs_background": "light"
     },
     "output_type": "display_data"
    }
   ],
   "source": [
    "plt.plot(pigs_data['wj_brs'], wordlist_data['word_acc'], 'bo')\n",
    "#title('initial reading score and word list improvements')"
   ]
  },
  {
   "cell_type": "code",
   "execution_count": 13,
   "metadata": {},
   "outputs": [],
   "source": [
    "acc_grouped = passage_diff_data.groupby(['pigs_casecontrol'])[ 'first_acc_diff'].mean()\n",
    "acc_grouped_error = passage_diff_data.groupby(['pigs_casecontrol'])[ 'first_acc_diff'].sem()"
   ]
  },
  {
   "cell_type": "code",
   "execution_count": 14,
   "metadata": {},
   "outputs": [
    {
     "data": {
      "text/plain": [
       "pigs_casecontrol\n",
       "0    18\n",
       "1    16\n",
       "Name: first_acc_diff, dtype: int64"
      ]
     },
     "execution_count": 14,
     "metadata": {},
     "output_type": "execute_result"
    }
   ],
   "source": [
    "passage_diff_data.groupby(['pigs_casecontrol'])['first_acc_diff'].count()"
   ]
  },
  {
   "cell_type": "code",
   "execution_count": 41,
   "metadata": {},
   "outputs": [
    {
     "data": {
      "image/png": "[encoded data removed]",
      "text/plain": [
       "<Figure size 432x288 with 1 Axes>"
      ]
     },
     "metadata": {
      "needs_background": "light"
     },
     "output_type": "display_data"
    }
   ],
   "source": [
    "first_acc = acc_grouped.plot(kind='bar',color=['grey', 'green'],\n",
    "                             yerr=acc_grouped_error, title='Passage Reading Accuracy', rot=0)\n",
    "first_acc.set_xlabel('Group')\n",
    "first_acc.set_ylabel('Gain in Words')\n",
    "#short_acc.legend(loc='upper left', labels=('Short Passages', 'Long Passages'))\n",
    "first_acc.set_xticklabels(['Control', 'Intervention'])\n",
    "first_acc.set_ylim([0,0.075])\n",
    "\n",
    "#save file\n",
    "plt.savefig('first_acc.eps',dpi=300,transparent=True, bbox_inches='tight')"
   ]
  },
  {
   "cell_type": "code",
   "execution_count": 16,
   "metadata": {},
   "outputs": [],
   "source": [
    "rate_grouped = passage_diff_data.groupby(['pigs_casecontrol'])['second_rate_diff'].mean()\n",
    "rate_grouped_error = passage_diff_data.groupby(['pigs_casecontrol'])['second_rate_diff'].sem()"
   ]
  },
  {
   "cell_type": "code",
   "execution_count": 17,
   "metadata": {},
   "outputs": [
    {
     "data": {
      "text/plain": [
       "pigs_casecontrol\n",
       "0    18\n",
       "1    15\n",
       "Name: second_rate_diff, dtype: int64"
      ]
     },
     "execution_count": 17,
     "metadata": {},
     "output_type": "execute_result"
    }
   ],
   "source": [
    "passage_diff_data.groupby(['pigs_casecontrol'])['second_rate_diff'].count()"
   ]
  },
  {
   "cell_type": "code",
   "execution_count": 42,
   "metadata": {},
   "outputs": [
    {
     "data": {
      "image/png": "[encoded data removed]",
      "text/plain": [
       "<Figure size 432x288 with 1 Axes>"
      ]
     },
     "metadata": {
      "needs_background": "light"
     },
     "output_type": "display_data"
    }
   ],
   "source": [
    "rate = rate_grouped.plot(kind='bar', yerr=rate_grouped_error, \n",
    "                         title='Passage Reading Rate', rot=0, color=['grey', 'green'])\n",
    "rate.set_xlabel('Group')\n",
    "rate.set_ylabel('Gain in Words per Minute')\n",
    "#rate.legend(loc='upper left', labels=('Short Passages', 'Long Passages'))\n",
    "rate.set_xticklabels(['Control', 'Intervention'])\n",
    "rate.set_ylim([0,0.075])\n",
    "\n",
    "\n",
    "#save file\n",
    "plt.savefig('first_rate.eps',dpi=300,transparent=True, bbox_inches='tight')"
   ]
  },
  {
   "cell_type": "code",
   "execution_count": 39,
   "metadata": {},
   "outputs": [
    {
     "data": {
      "image/png": "[encoded data removed]",
      "text/plain": [
       "<Figure size 144x216 with 1 Axes>"
      ]
     },
     "metadata": {
      "needs_background": "light"
     },
     "output_type": "display_data"
    }
   ],
   "source": [
    "wordlist_acc_diff_grouped = wordlist_acc_diff_data.groupby(['pigs_casecontrol'])['word_acc_diff'].mean()\n",
    "wl_acc_diff_grpd_error = wordlist_acc_diff_data.groupby(['pigs_casecontrol'])['word_acc_diff'].sem()\n",
    "fig1 = wordlist_acc_diff_grouped.plot(kind='bar', yerr=wl_acc_diff_grpd_error, \n",
    "                                      legend=False, title='Real Word Decoding', \n",
    "                                      rot=0, figsize=(2,3), color=['grey', 'green'])\n",
    "fig1.set_xlabel('Group')\n",
    "fig1.set_ylabel('Benefit (addl words read)')\n",
    "fig1.set_xticklabels(['Control', 'Intervention']), \n",
    "fig1.set_ylim([-2,3])\n",
    "\n",
    "\n",
    "#save file\n",
    "plt.savefig('wordlist_real.eps',dpi=300, transparent=True, bbox_inches='tight')\n"
   ]
  },
  {
   "cell_type": "code",
   "execution_count": 40,
   "metadata": {},
   "outputs": [
    {
     "data": {
      "image/png": "[encoded data removed]",
      "text/plain": [
       "<Figure size 144x216 with 1 Axes>"
      ]
     },
     "metadata": {
      "needs_background": "light"
     },
     "output_type": "display_data"
    }
   ],
   "source": [
    "wordlist_acc_diff_grouped = wordlist_acc_diff_data.groupby(['pigs_casecontrol'])['pseudo_acc_diff'].mean()\n",
    "wl_acc_diff_grpd_error = wordlist_acc_diff_data.groupby(['pigs_casecontrol'])['pseudo_acc_diff'].sem()\n",
    "fig2 = wordlist_acc_diff_grouped.plot(kind='bar', yerr=wl_acc_diff_grpd_error, \n",
    "                                      legend=False, figsize=(2,3), fontsize=10, \n",
    "                                      color=['grey', 'green'], title='Pseudo Word Decoding',\n",
    "                                      rot=0)\n",
    "fig2.set_xlabel('Group')\n",
    "fig2.set_ylabel('Benefit (addl words read)')\n",
    "fig2.set_xticklabels(['Control', 'Intervention'])\n",
    "fig2.set_ylim([-2,3])\n",
    "\n",
    "\n",
    "#save file\n",
    "plt.savefig('wordlist_pseudo.eps',dpi=300, transparent=True, bbox_inches='tight')"
   ]
  },
  {
   "cell_type": "code",
   "execution_count": 21,
   "metadata": {},
   "outputs": [
    {
     "data": {
      "text/plain": [
       "pigs_casecontrol\n",
       "0    20\n",
       "1    20\n",
       "Name: pseudo_acc_diff, dtype: int64"
      ]
     },
     "execution_count": 21,
     "metadata": {},
     "output_type": "execute_result"
    }
   ],
   "source": [
    "wordlist_acc_diff_data.groupby(['pigs_casecontrol'])['pseudo_acc_diff'].count()"
   ]
  },
  {
   "cell_type": "code",
   "execution_count": 22,
   "metadata": {},
   "outputs": [
    {
     "data": {
      "text/plain": [
       "<pandas.core.groupby.generic.SeriesGroupBy object at 0x0000016D25339FD0>"
      ]
     },
     "execution_count": 22,
     "metadata": {},
     "output_type": "execute_result"
    }
   ],
   "source": [
    "wordlist_acc_diff_data.groupby(['pigs_casecontrol'])['word_acc_diff']"
   ]
  },
  {
   "cell_type": "code",
   "execution_count": 23,
   "metadata": {},
   "outputs": [],
   "source": [
    "from scipy.stats import ttest_ind"
   ]
  },
  {
   "cell_type": "code",
   "execution_count": 24,
   "metadata": {},
   "outputs": [],
   "source": [
    "word_cntrl = wordlist_acc_diff_data['word_acc_diff'][wordlist_acc_diff_data['pigs_casecontrol'] == 0].dropna()\n",
    "word_int = wordlist_acc_diff_data['word_acc_diff'][wordlist_acc_diff_data['pigs_casecontrol'] == 1].dropna()\n",
    "pseudo_cntrl = wordlist_acc_diff_data['pseudo_acc_diff'][wordlist_acc_diff_data['pigs_casecontrol'] == 0].dropna()\n",
    "pseudo_int = wordlist_acc_diff_data['pseudo_acc_diff'][wordlist_acc_diff_data['pigs_casecontrol'] == 1].dropna()"
   ]
  },
  {
   "cell_type": "code",
   "execution_count": 25,
   "metadata": {},
   "outputs": [
    {
     "data": {
      "text/plain": [
       "Ttest_indResult(statistic=1.7983443922651439, pvalue=0.08007020390025947)"
      ]
     },
     "execution_count": 25,
     "metadata": {},
     "output_type": "execute_result"
    }
   ],
   "source": [
    "ttest_ind(word_int, word_cntrl)"
   ]
  },
  {
   "cell_type": "code",
   "execution_count": 26,
   "metadata": {},
   "outputs": [
    {
     "data": {
      "text/plain": [
       "Ttest_indResult(statistic=2.3494994589968976, pvalue=0.024097006097901837)"
      ]
     },
     "execution_count": 26,
     "metadata": {},
     "output_type": "execute_result"
    }
   ],
   "source": [
    "ttest_ind(pseudo_int, pseudo_cntrl)"
   ]
  },
  {
   "cell_type": "code",
   "execution_count": 27,
   "metadata": {},
   "outputs": [],
   "source": [
    "matlab_data.to_csv(home+'/Desktop/pigs_wordlist_data.csv')"
   ]
  },
  {
   "cell_type": "code",
   "execution_count": 28,
   "metadata": {},
   "outputs": [],
   "source": [
    "practice_data_sifted = pigs_data[pigs_data['study_name']==42]"
   ]
  },
  {
   "cell_type": "code",
   "execution_count": 29,
   "metadata": {},
   "outputs": [],
   "source": [
    "practice_data_grpd = practice_data_sifted.groupby(['pigs_casecontrol'])['pigs_practice_numstories']"
   ]
  },
  {
   "cell_type": "code",
   "execution_count": 30,
   "metadata": {},
   "outputs": [
    {
     "data": {
      "image/png": "[encoded data removed]",
      "text/plain": [
       "<Figure size 432x288 with 1 Axes>"
      ]
     },
     "metadata": {
      "needs_background": "light"
     },
     "output_type": "display_data"
    }
   ],
   "source": [
    "pracplot = practice_data_grpd.plot(kind='hist', histtype = 'step',by='pigs_casecontrol', legend=True\n",
    "                        ,title='Distribution of Practice')\n",
    "\n",
    "\n",
    "#save file\n",
    "plt.savefig('practice_hist.pdf',transparent=True)"
   ]
  },
  {
   "cell_type": "code",
   "execution_count": 31,
   "metadata": {},
   "outputs": [
    {
     "data": {
      "text/plain": [
       "Text(0, 0.5, 'Number of Words Read')"
      ]
     },
     "execution_count": 31,
     "metadata": {},
     "output_type": "execute_result"
    },
    {
     "data": {
      "image/png": "[encoded data removed]",
      "text/plain": [
       "<Figure size 432x288 with 1 Axes>"
      ]
     },
     "metadata": {
      "needs_background": "light"
     },
     "output_type": "display_data"
    }
   ],
   "source": [
    "plt.plot(pigs_data['pigs_practice_numstories'], wordlist_data['word_acc'], 'bo')\n",
    "plt.plot(pigs_data['pigs_practice_numstories'], wordlist_data['pseudo_acc'], 'ro')\n",
    "plt.legend(loc='lower right', labels=('Real Words', 'Pseudo Words'))\n",
    "plt.title('Relationship between Practice and Word Reading')\n",
    "plt.xlabel('Number of Stories Completed')\n",
    "plt.ylabel('Number of Words Read')"
   ]
  },
  {
   "cell_type": "code",
   "execution_count": 32,
   "metadata": {},
   "outputs": [
    {
     "data": {
      "text/plain": [
       "Text(0, 0.5, 'Addl Number of Words Read')"
      ]
     },
     "execution_count": 32,
     "metadata": {},
     "output_type": "execute_result"
    },
    {
     "data": {
      "image/png": "[encoded data removed]",
      "text/plain": [
       "<Figure size 432x288 with 1 Axes>"
      ]
     },
     "metadata": {
      "needs_background": "light"
     },
     "output_type": "display_data"
    }
   ],
   "source": [
    "plt.plot(pigs_data['pigs_practice_numstories'], wordlist_acc_diff_data['word_acc_diff'], 'bo')\n",
    "plt.plot(pigs_data['pigs_practice_numstories'], wordlist_acc_diff_data['pseudo_acc_diff'], 'ro')\n",
    "plt.legend(loc='lower right', labels=('Real Words', 'Pseudo Words'))\n",
    "plt.title('Relationship between Practice and Word Reading Improvement')\n",
    "plt.xlabel('Number of Stories Completed')\n",
    "plt.ylabel('Addl Number of Words Read')"
   ]
  },
  {
   "cell_type": "code",
   "execution_count": 33,
   "metadata": {},
   "outputs": [
    {
     "data": {
      "text/plain": [
       "array([nan])"
      ]
     },
     "execution_count": 33,
     "metadata": {},
     "output_type": "execute_result"
    }
   ],
   "source": [
    "np.correlate(pigs_data['pigs_practice_numstories'], wordlist_acc_diff_data['word_acc_diff'])"
   ]
  },
  {
   "cell_type": "code",
   "execution_count": 34,
   "metadata": {},
   "outputs": [
    {
     "data": {
      "image/png": "[encoded data removed]",
      "text/plain": [
       "<Figure size 432x288 with 1 Axes>"
      ]
     },
     "metadata": {
      "needs_background": "light"
     },
     "output_type": "display_data"
    }
   ],
   "source": [
    "justcontrol = pigs_data[pigs_data['pigs_casecontrol'] == 0]\n",
    "justcontrolwl = wordlist_acc_diff_data[wordlist_acc_diff_data['pigs_casecontrol'] == 0]\n",
    "\n",
    "plt.plot(justcontrol['pigs_practice_numstories'], justcontrolwl['word_acc_diff'], 'bo')\n",
    "plt.plot(justcontrol['pigs_practice_numstories'], justcontrolwl['pseudo_acc_diff'], 'ro')\n",
    "\n",
    "idx = np.isfinite(justcontrol['pigs_practice_numstories']) & np.isfinite(justcontrolwl['word_acc_diff'])\n",
    "b_w,m_w = polyfit(justcontrol['pigs_practice_numstories'][idx], justcontrolwl['word_acc_diff'][idx], 1)\n",
    "b_p,m_p = polyfit(justcontrol['pigs_practice_numstories'][idx], justcontrolwl['pseudo_acc_diff'][idx], 1)\n",
    "plt.plot(justcontrol['pigs_practice_numstories'][idx], b_w + m_w * justcontrol['pigs_practice_numstories'][idx], 'b')\n",
    "plt.plot(justcontrol['pigs_practice_numstories'][idx], b_p + m_p * justcontrol['pigs_practice_numstories'][idx], 'r')\n",
    "\n",
    "plt.legend(loc='upper right', labels=('Real Words', 'Pseudo Words'))\n",
    "plt.title('Role of Practice: Control participants')\n",
    "plt.xlabel('Number of Stories Completed')\n",
    "plt.ylabel('Addl Number of Words Read')\n",
    "\n",
    "\n",
    "#save file\n",
    "plt.savefig('practice_wl_control.pdf',transparent=True)"
   ]
  },
  {
   "cell_type": "code",
   "execution_count": 35,
   "metadata": {},
   "outputs": [
    {
     "data": {
      "image/png": "[encoded data removed]",
      "text/plain": [
       "<Figure size 432x288 with 1 Axes>"
      ]
     },
     "metadata": {
      "needs_background": "light"
     },
     "output_type": "display_data"
    }
   ],
   "source": [
    "justpigs = pigs_data[pigs_data['pigs_casecontrol'] == 1]\n",
    "justpigswl = wordlist_acc_diff_data[wordlist_acc_diff_data['pigs_casecontrol'] == 1]\n",
    "\n",
    "plt.plot(justpigs['pigs_practice_numstories'], justpigswl['word_acc_diff'], 'bo')\n",
    "plt.plot(justpigs['pigs_practice_numstories'], justpigswl['pseudo_acc_diff'], 'ro')\n",
    "\n",
    "idx = np.isfinite(justpigs['pigs_practice_numstories']) & np.isfinite(justpigswl['word_acc_diff'])\n",
    "b_w,m_w = polyfit(justpigs['pigs_practice_numstories'][idx], justpigswl['word_acc_diff'][idx], 1)\n",
    "b_p,m_p = polyfit(justpigs['pigs_practice_numstories'][idx], justpigswl['pseudo_acc_diff'][idx], 1)\n",
    "plt.plot(justpigs['pigs_practice_numstories'][idx], b_w + m_w * justpigs['pigs_practice_numstories'][idx], 'b')\n",
    "plt.plot(justpigs['pigs_practice_numstories'][idx], b_p + m_p * justpigs['pigs_practice_numstories'][idx], 'r')\n",
    "\n",
    "\n",
    "plt.legend(loc='upper right', labels=('Real Words', 'Pseudo Words'))\n",
    "plt.title('Role of Practice: Intervention participants')\n",
    "plt.xlabel('Number of Stories Completed')\n",
    "plt.ylabel('Addl Number of Words Read')\n",
    "\n",
    "#save file\n",
    "plt.savefig('practice_wl_int.pdf',transparent=True)"
   ]
  },
  {
   "cell_type": "code",
   "execution_count": 36,
   "metadata": {},
   "outputs": [
    {
     "ename": "ValueError",
     "evalue": "array must not contain infs or NaNs",
     "output_type": "error",
     "traceback": [
      "\u001b[1;31m---------------------------------------------------------------------------\u001b[0m",
      "\u001b[1;31mValueError\u001b[0m                                Traceback (most recent call last)",
      "\u001b[1;32m<ipython-input-36-a5269101c2e0>\u001b[0m in \u001b[0;36m<module>\u001b[1;34m\u001b[0m\n\u001b[1;32m----> 1\u001b[1;33m \u001b[0mstats\u001b[0m\u001b[1;33m.\u001b[0m\u001b[0mpearsonr\u001b[0m\u001b[1;33m(\u001b[0m\u001b[0mjustpigs\u001b[0m\u001b[1;33m[\u001b[0m\u001b[1;34m'pigs_practice_numstories'\u001b[0m\u001b[1;33m]\u001b[0m\u001b[1;33m[\u001b[0m\u001b[0mjustpigs\u001b[0m\u001b[1;33m[\u001b[0m\u001b[1;34m'study_name'\u001b[0m\u001b[1;33m]\u001b[0m\u001b[1;33m==\u001b[0m\u001b[1;36m42\u001b[0m\u001b[1;33m]\u001b[0m\u001b[1;33m,\u001b[0m \u001b[0mjustpigswl\u001b[0m\u001b[1;33m[\u001b[0m\u001b[1;34m'pseudo_acc_diff'\u001b[0m\u001b[1;33m]\u001b[0m\u001b[1;33m.\u001b[0m\u001b[0mdropna\u001b[0m\u001b[1;33m(\u001b[0m\u001b[1;33m)\u001b[0m\u001b[1;33m)\u001b[0m\u001b[1;33m\u001b[0m\u001b[1;33m\u001b[0m\u001b[0m\n\u001b[0m",
      "\u001b[1;32mc:\\users\\donne\\appdata\\local\\programs\\python\\python37\\lib\\site-packages\\scipy\\stats\\stats.py\u001b[0m in \u001b[0;36mpearsonr\u001b[1;34m(x, y)\u001b[0m\n\u001b[0;32m   3419\u001b[0m     \u001b[1;31m# scipy.linalg.norm(xm) does not overflow if xm is, for example,\u001b[0m\u001b[1;33m\u001b[0m\u001b[1;33m\u001b[0m\u001b[1;33m\u001b[0m\u001b[0m\n\u001b[0;32m   3420\u001b[0m     \u001b[1;31m# [-5e210, 5e210, 3e200, -3e200]\u001b[0m\u001b[1;33m\u001b[0m\u001b[1;33m\u001b[0m\u001b[1;33m\u001b[0m\u001b[0m\n\u001b[1;32m-> 3421\u001b[1;33m     \u001b[0mnormxm\u001b[0m \u001b[1;33m=\u001b[0m \u001b[0mlinalg\u001b[0m\u001b[1;33m.\u001b[0m\u001b[0mnorm\u001b[0m\u001b[1;33m(\u001b[0m\u001b[0mxm\u001b[0m\u001b[1;33m)\u001b[0m\u001b[1;33m\u001b[0m\u001b[1;33m\u001b[0m\u001b[0m\n\u001b[0m\u001b[0;32m   3422\u001b[0m     \u001b[0mnormym\u001b[0m \u001b[1;33m=\u001b[0m \u001b[0mlinalg\u001b[0m\u001b[1;33m.\u001b[0m\u001b[0mnorm\u001b[0m\u001b[1;33m(\u001b[0m\u001b[0mym\u001b[0m\u001b[1;33m)\u001b[0m\u001b[1;33m\u001b[0m\u001b[1;33m\u001b[0m\u001b[0m\n\u001b[0;32m   3423\u001b[0m \u001b[1;33m\u001b[0m\u001b[0m\n",
      "\u001b[1;32mc:\\users\\donne\\appdata\\local\\programs\\python\\python37\\lib\\site-packages\\scipy\\linalg\\misc.py\u001b[0m in \u001b[0;36mnorm\u001b[1;34m(a, ord, axis, keepdims)\u001b[0m\n\u001b[0;32m    135\u001b[0m     \"\"\"\n\u001b[0;32m    136\u001b[0m     \u001b[1;31m# Differs from numpy only in non-finite handling and the use of blas.\u001b[0m\u001b[1;33m\u001b[0m\u001b[1;33m\u001b[0m\u001b[1;33m\u001b[0m\u001b[0m\n\u001b[1;32m--> 137\u001b[1;33m     \u001b[0ma\u001b[0m \u001b[1;33m=\u001b[0m \u001b[0mnp\u001b[0m\u001b[1;33m.\u001b[0m\u001b[0masarray_chkfinite\u001b[0m\u001b[1;33m(\u001b[0m\u001b[0ma\u001b[0m\u001b[1;33m)\u001b[0m\u001b[1;33m\u001b[0m\u001b[1;33m\u001b[0m\u001b[0m\n\u001b[0m\u001b[0;32m    138\u001b[0m \u001b[1;33m\u001b[0m\u001b[0m\n\u001b[0;32m    139\u001b[0m     \u001b[1;31m# Only use optimized norms if axis and keepdims are not specified.\u001b[0m\u001b[1;33m\u001b[0m\u001b[1;33m\u001b[0m\u001b[1;33m\u001b[0m\u001b[0m\n",
      "\u001b[1;32mc:\\users\\donne\\appdata\\local\\programs\\python\\python37\\lib\\site-packages\\numpy\\lib\\function_base.py\u001b[0m in \u001b[0;36masarray_chkfinite\u001b[1;34m(a, dtype, order)\u001b[0m\n\u001b[0;32m    496\u001b[0m     \u001b[1;32mif\u001b[0m \u001b[0ma\u001b[0m\u001b[1;33m.\u001b[0m\u001b[0mdtype\u001b[0m\u001b[1;33m.\u001b[0m\u001b[0mchar\u001b[0m \u001b[1;32min\u001b[0m \u001b[0mtypecodes\u001b[0m\u001b[1;33m[\u001b[0m\u001b[1;34m'AllFloat'\u001b[0m\u001b[1;33m]\u001b[0m \u001b[1;32mand\u001b[0m \u001b[1;32mnot\u001b[0m \u001b[0mnp\u001b[0m\u001b[1;33m.\u001b[0m\u001b[0misfinite\u001b[0m\u001b[1;33m(\u001b[0m\u001b[0ma\u001b[0m\u001b[1;33m)\u001b[0m\u001b[1;33m.\u001b[0m\u001b[0mall\u001b[0m\u001b[1;33m(\u001b[0m\u001b[1;33m)\u001b[0m\u001b[1;33m:\u001b[0m\u001b[1;33m\u001b[0m\u001b[1;33m\u001b[0m\u001b[0m\n\u001b[0;32m    497\u001b[0m         raise ValueError(\n\u001b[1;32m--> 498\u001b[1;33m             \"array must not contain infs or NaNs\")\n\u001b[0m\u001b[0;32m    499\u001b[0m     \u001b[1;32mreturn\u001b[0m \u001b[0ma\u001b[0m\u001b[1;33m\u001b[0m\u001b[1;33m\u001b[0m\u001b[0m\n\u001b[0;32m    500\u001b[0m \u001b[1;33m\u001b[0m\u001b[0m\n",
      "\u001b[1;31mValueError\u001b[0m: array must not contain infs or NaNs"
     ]
    }
   ],
   "source": [
    "stats.pearsonr(justpigs['pigs_practice_numstories'][justpigs['study_name']==42], justpigswl['pseudo_acc_diff'].dropna())"
   ]
  },
  {
   "cell_type": "code",
   "execution_count": null,
   "metadata": {},
   "outputs": [],
   "source": [
    "matlab_data"
   ]
  },
  {
   "cell_type": "code",
   "execution_count": null,
   "metadata": {},
   "outputs": [],
   "source": [
    "pigs_data.to_csv(home+'/Desktop/pigs_data_2.csv')"
   ]
  },
  {
   "cell_type": "code",
   "execution_count": null,
   "metadata": {},
   "outputs": [],
   "source": [
    "pigs_data[pigs_data.pigs_casecontrol == 0].describe()"
   ]
  },
  {
   "cell_type": "code",
   "execution_count": null,
   "metadata": {},
   "outputs": [],
   "source": [
    "pigs_int = pigs_data[pigs_data.pigs_casecontrol == 0]"
   ]
  },
  {
   "cell_type": "code",
   "execution_count": null,
   "metadata": {
    "scrolled": true
   },
   "outputs": [],
   "source": [
    "pigs_int[pigs_int.int_session == 1].describe()"
   ]
  },
  {
   "cell_type": "markdown",
   "metadata": {},
   "source": [
    "## "
   ]
  }
 ],
 "metadata": {
  "kernelspec": {
   "display_name": "Python 3",
   "language": "python",
   "name": "python3"
  },
  "language_info": {
   "codemirror_mode": {
    "name": "ipython",
    "version": 3
   },
   "file_extension": ".py",
   "mimetype": "text/x-python",
   "name": "python",
   "nbconvert_exporter": "python",
   "pygments_lexer": "ipython3",
   "version": "3.7.3"
  }
 },
 "nbformat": 4,
 "nbformat_minor": 2
}
